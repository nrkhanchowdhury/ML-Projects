{
 "cells": [
  {
   "cell_type": "code",
   "execution_count": 1,
   "id": "4b9779d2",
   "metadata": {
    "scrolled": true
   },
   "outputs": [
    {
     "name": "stderr",
     "output_type": "stream",
     "text": [
      "/usr/local/lib/python3.9/site-packages/tqdm/auto.py:22: TqdmWarning: IProgress not found. Please update jupyter and ipywidgets. See https://ipywidgets.readthedocs.io/en/stable/user_install.html\n",
      "  from .autonotebook import tqdm as notebook_tqdm\n"
     ]
    }
   ],
   "source": [
    "import torch\n",
    "import torch.nn as nn\n",
    "import numpy as np\n",
    "import matplotlib.pyplot as plt"
   ]
  },
  {
   "cell_type": "markdown",
   "id": "4d5a86e3",
   "metadata": {},
   "source": [
    "### 1. Generate Synthetic Data"
   ]
  },
  {
   "cell_type": "code",
   "execution_count": 2,
   "id": "ef107834",
   "metadata": {},
   "outputs": [],
   "source": [
    "# Physics parameters\n",
    "g = 9.8        # acceleration due to gravity\n",
    "h0 = 1.0       # initial height\n",
    "v0 = 10.0      # initial velocity\n",
    "\n",
    "# True (analytical) solution h(t) = h0 + v0*t - 0.5*g*t^2\n",
    "def true_solution(t):\n",
    "    return h0 + v0*t - 0.5*g*(t**2)"
   ]
  },
  {
   "cell_type": "code",
   "execution_count": 3,
   "id": "c952f4ff",
   "metadata": {},
   "outputs": [],
   "source": [
    "# Generate some time points\n",
    "t_min, t_max = 0.0, 2.0\n",
    "N_data = 10\n",
    "t_data = np.linspace(t_min, t_max, N_data)\n",
    "\n",
    "# Generate synthetic \"experimental\" heights with noise\n",
    "np.random.seed(0)\n",
    "noise_level = 0.3\n",
    "h_data_exact = true_solution(t_data)\n",
    "h_data_noisy = h_data_exact + noise_level*np.random.randn(N_data)\n",
    "\n",
    "# Convert to PyTorch tensors\n",
    "t_data_tensor = torch.tensor(t_data, dtype=torch.float32).view(-1, 1)\n",
    "h_data_tensor = torch.tensor(h_data_noisy, dtype=torch.float32).view(-1, 1)"
   ]
  },
  {
   "cell_type": "markdown",
   "id": "a9af380a",
   "metadata": {},
   "source": [
    "### 2. Define a small feed-forward neural network for h(t)"
   ]
  },
  {
   "cell_type": "code",
   "execution_count": 5,
   "id": "7ef77835",
   "metadata": {},
   "outputs": [],
   "source": [
    "class PINN(nn.Module):\n",
    "    def __init__(self, n_hidden=20):\n",
    "        super(PINN, self).__init__()\n",
    "        # A simple MLP with 2 hidden layers\n",
    "        self.net = nn.Sequential(\n",
    "            nn.Linear(1, n_hidden),\n",
    "            nn.Tanh(),\n",
    "            nn.Linear(n_hidden, n_hidden),\n",
    "            nn.Tanh(),\n",
    "            nn.Linear(n_hidden, 1)\n",
    "        )\n",
    "\n",
    "    def forward(self, t):\n",
    "        \"\"\"\n",
    "        Forward pass: input shape (batch_size, 1) -> output shape (batch_size, 1)\n",
    "        \"\"\"\n",
    "        return self.net(t)\n",
    "\n",
    "# Instantiate the model\n",
    "model = PINN(n_hidden=20)"
   ]
  },
  {
   "cell_type": "markdown",
   "id": "2e2eba19",
   "metadata": {},
   "source": [
    "### 3. Helper for Automatic Diff"
   ]
  },
  {
   "cell_type": "code",
   "execution_count": 6,
   "id": "2c1ed0ea",
   "metadata": {},
   "outputs": [],
   "source": [
    "def derivative(y, x):\n",
    "    \"\"\"\n",
    "    Computes dy/dx using PyTorch's autograd.\n",
    "    y and x must be tensors with requires_grad=True for x.\n",
    "    \"\"\"\n",
    "    return torch.autograd.grad(\n",
    "        y, x,\n",
    "        grad_outputs=torch.ones_like(y),\n",
    "        create_graph=True\n",
    "    )[0]"
   ]
  },
  {
   "cell_type": "markdown",
   "id": "f78b77a8",
   "metadata": {},
   "source": [
    "### 4. Define the Loss Components (PINN)\n",
    "\n",
    "-    (1) Data loss (fit noisy data)\n",
    "-    (2) ODE loss: dh/dt = v0 - g * t\n",
    "-    (3) Initial condition loss: h(0) = h0\n"
   ]
  },
  {
   "cell_type": "code",
   "execution_count": 7,
   "id": "ad159209",
   "metadata": {},
   "outputs": [],
   "source": [
    "def data_loss(model, t_data, h_data):\n",
    "    \"\"\"\n",
    "    MSE between predicted h(t_i) and noisy measurements h_data.\n",
    "    \"\"\"\n",
    "    h_pred = model(t_data)\n",
    "    return torch.mean((h_pred - h_data)**2)\n",
    "\n",
    "def physics_loss(model, t):\n",
    "    \"\"\"\n",
    "    Compare d(h_pred)/dt with the known expression (v0 - g t).\n",
    "    \"\"\"\n",
    "    # t must have requires_grad = True for autograd to work\n",
    "    t.requires_grad_(True)\n",
    "\n",
    "    h_pred = model(t)\n",
    "    dh_dt_pred = derivative(h_pred, t)\n",
    "\n",
    "    # For each t, physics says dh/dt = v0 - g * t\n",
    "    dh_dt_true = v0 - g * t\n",
    "\n",
    "    loss_ode = torch.mean((dh_dt_pred - dh_dt_true)**2)\n",
    "    return loss_ode\n",
    "\n",
    "def initial_condition_loss(model):\n",
    "    \"\"\"\n",
    "    Enforce h(0) = h0.\n",
    "    \"\"\"\n",
    "    # Evaluate at t=0\n",
    "    t0 = torch.zeros(1, 1, dtype=torch.float32, requires_grad=False)\n",
    "    h0_pred = model(t0)\n",
    "    return (h0_pred - h0).pow(2).mean()"
   ]
  },
  {
   "cell_type": "markdown",
   "id": "5418bdd0",
   "metadata": {},
   "source": [
    "### 5. Training Setup"
   ]
  },
  {
   "cell_type": "code",
   "execution_count": 9,
   "id": "295b31d7",
   "metadata": {},
   "outputs": [],
   "source": [
    "optimizer = torch.optim.Adam(model.parameters(), lr=0.01)\n",
    "\n",
    "# Hyperparameters for weighting the loss terms\n",
    "lambda_data = 2.0\n",
    "lambda_ode  = 2.0\n",
    "lambda_ic   = 2.0\n",
    "\n",
    "# For logging\n",
    "num_epochs = 4000\n",
    "print_every = 200"
   ]
  },
  {
   "cell_type": "markdown",
   "id": "1f54174d",
   "metadata": {},
   "source": [
    "### 6. Training Loop"
   ]
  },
  {
   "cell_type": "code",
   "execution_count": 10,
   "id": "2ff76461",
   "metadata": {},
   "outputs": [
    {
     "name": "stdout",
     "output_type": "stream",
     "text": [
      "Epoch 200/4000, Total Loss = 0.212508, Data Loss = 0.089216, ODE Loss = 0.014203, IC Loss = 0.002836\n",
      "Epoch 400/4000, Total Loss = 0.200787, Data Loss = 0.088255, ODE Loss = 0.009292, IC Loss = 0.002846\n",
      "Epoch 600/4000, Total Loss = 0.193636, Data Loss = 0.088468, ODE Loss = 0.005729, IC Loss = 0.002621\n",
      "Epoch 800/4000, Total Loss = 0.190453, Data Loss = 0.088280, ODE Loss = 0.004416, IC Loss = 0.002530\n",
      "Epoch 1000/4000, Total Loss = 0.189134, Data Loss = 0.088112, ODE Loss = 0.003962, IC Loss = 0.002492\n",
      "Epoch 1200/4000, Total Loss = 0.188597, Data Loss = 0.087943, ODE Loss = 0.003881, IC Loss = 0.002474\n",
      "Epoch 1400/4000, Total Loss = 0.188271, Data Loss = 0.087771, ODE Loss = 0.003896, IC Loss = 0.002468\n",
      "Epoch 1600/4000, Total Loss = 0.187985, Data Loss = 0.087602, ODE Loss = 0.003925, IC Loss = 0.002465\n",
      "Epoch 1800/4000, Total Loss = 0.187706, Data Loss = 0.087435, ODE Loss = 0.003956, IC Loss = 0.002463\n",
      "Epoch 2000/4000, Total Loss = 0.187420, Data Loss = 0.087263, ODE Loss = 0.003989, IC Loss = 0.002458\n",
      "Epoch 2200/4000, Total Loss = 0.187114, Data Loss = 0.087097, ODE Loss = 0.004013, IC Loss = 0.002447\n",
      "Epoch 2400/4000, Total Loss = 0.186781, Data Loss = 0.086895, ODE Loss = 0.004061, IC Loss = 0.002435\n",
      "Epoch 2600/4000, Total Loss = 0.186554, Data Loss = 0.086949, ODE Loss = 0.003994, IC Loss = 0.002334\n",
      "Epoch 2800/4000, Total Loss = 0.188783, Data Loss = 0.085313, ODE Loss = 0.006240, IC Loss = 0.002839\n",
      "Epoch 3000/4000, Total Loss = 0.185672, Data Loss = 0.086170, ODE Loss = 0.004273, IC Loss = 0.002393\n",
      "Epoch 3200/4000, Total Loss = 0.185319, Data Loss = 0.085929, ODE Loss = 0.004353, IC Loss = 0.002377\n",
      "Epoch 3400/4000, Total Loss = 0.185598, Data Loss = 0.086381, ODE Loss = 0.004373, IC Loss = 0.002044\n",
      "Epoch 3600/4000, Total Loss = 0.184688, Data Loss = 0.085446, ODE Loss = 0.004551, IC Loss = 0.002347\n",
      "Epoch 3800/4000, Total Loss = 0.184464, Data Loss = 0.085238, ODE Loss = 0.004656, IC Loss = 0.002338\n",
      "Epoch 4000/4000, Total Loss = 0.184332, Data Loss = 0.085187, ODE Loss = 0.004687, IC Loss = 0.002292\n"
     ]
    }
   ],
   "source": [
    "model.train()\n",
    "for epoch in range(num_epochs):\n",
    "    optimizer.zero_grad()\n",
    "\n",
    "    # Compute losses\n",
    "    l_data = data_loss(model, t_data_tensor, h_data_tensor)\n",
    "    l_ode  = physics_loss(model, t_data_tensor)\n",
    "    l_ic   = initial_condition_loss(model)\n",
    "\n",
    "    # Combined loss\n",
    "    loss = lambda_data * l_data + lambda_ode * l_ode + lambda_ic * l_ic\n",
    "\n",
    "    # Backprop\n",
    "    loss.backward()\n",
    "    optimizer.step()\n",
    "\n",
    "    # Print progress\n",
    "    if (epoch+1) % print_every == 0:\n",
    "        print(f\"Epoch {epoch+1}/{num_epochs}, \"\n",
    "              f\"Total Loss = {loss.item():.6f}, \"\n",
    "              f\"Data Loss = {l_data.item():.6f}, \"\n",
    "              f\"ODE Loss = {l_ode.item():.6f}, \"\n",
    "              f\"IC Loss = {l_ic.item():.6f}\")"
   ]
  },
  {
   "cell_type": "markdown",
   "id": "d191555e",
   "metadata": {},
   "source": [
    "### 7. Evaluate the Trained Model"
   ]
  },
  {
   "cell_type": "code",
   "execution_count": 11,
   "id": "05f420d0",
   "metadata": {},
   "outputs": [
    {
     "data": {
      "image/png": "[encoded data removed]",
      "text/plain": [
       "<Figure size 800x500 with 1 Axes>"
      ]
     },
     "metadata": {},
     "output_type": "display_data"
    }
   ],
   "source": [
    "model.eval()\n",
    "t_plot = np.linspace(t_min, t_max, 100).reshape(-1, 1).astype(np.float32)\n",
    "t_plot_tensor = torch.tensor(t_plot, requires_grad=True)\n",
    "h_pred_plot = model(t_plot_tensor).detach().numpy()\n",
    "\n",
    "# True solution (for comparison)\n",
    "h_true_plot = true_solution(t_plot)\n",
    "\n",
    "# Plot results\n",
    "plt.figure(figsize=(8, 5))\n",
    "plt.scatter(t_data, h_data_noisy, color='red', label='Noisy Data')\n",
    "plt.plot(t_plot, h_true_plot, 'k--', label='Exact Solution')\n",
    "plt.plot(t_plot, h_pred_plot, 'b', label='PINN Prediction')\n",
    "plt.xlabel('t')\n",
    "plt.ylabel('h(t)')\n",
    "plt.legend()\n",
    "plt.title('PINN for Ball Trajectory')\n",
    "plt.grid(True)\n",
    "plt.show()"
   ]
  },
  {
   "cell_type": "code",
   "execution_count": null,
   "id": "d1853862",
   "metadata": {},
   "outputs": [],
   "source": []
  }
 ],
 "metadata": {
  "kernelspec": {
   "display_name": "Python 3 (ipykernel)",
   "language": "python",
   "name": "python3"
  },
  "language_info": {
   "codemirror_mode": {
    "name": "ipython",
    "version": 3
   },
   "file_extension": ".py",
   "mimetype": "text/x-python",
   "name": "python",
   "nbconvert_exporter": "python",
   "pygments_lexer": "ipython3",
   "version": "3.9.5"
  }
 },
 "nbformat": 4,
 "nbformat_minor": 5
}
