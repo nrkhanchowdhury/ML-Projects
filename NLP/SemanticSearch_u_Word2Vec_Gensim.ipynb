{
 "cells": [
  {
   "cell_type": "code",
   "execution_count": null,
   "id": "5f2f6b7a",
   "metadata": {},
   "outputs": [],
   "source": [
    "!pip install -q langdetect\n",
    "#!gdown 1VkNpuudQnlj7g5uUCNPJ4MKxFdDdh7bZ"
   ]
  },
  {
   "cell_type": "code",
   "execution_count": 2,
   "id": "b601920a",
   "metadata": {},
   "outputs": [
    {
     "name": "stderr",
     "output_type": "stream",
     "text": [
      "/var/folders/21/vgybxt6529g5wrtxj6dvczdm0000gn/T/ipykernel_43160/3023876184.py:13: DeprecationWarning: Importing display from IPython.core.display is deprecated since IPython 7.14, please import from IPython display\n",
      "  from IPython.core.display import HTML, display\n"
     ]
    }
   ],
   "source": [
    "import spacy\n",
    "import string\n",
    "import warnings\n",
    "\n",
    "import numpy as np\n",
    "import pandas as pd\n",
    "\n",
    "from pprint import pprint\n",
    "from IPython.utils import io\n",
    "from tqdm.notebook import tqdm\n",
    "from gensim.models import Word2Vec \n",
    "from langdetect import DetectorFactory, detect\n",
    "from IPython.core.display import HTML, display\n",
    "from IPython.display import Image\n",
    "from spacy.lang.en.stop_words import STOP_WORDS\n",
    "\n",
    "warnings.filterwarnings('ignore')\n",
    "tqdm.pandas()"
   ]
  },
  {
   "cell_type": "code",
   "execution_count": 9,
   "id": "0409e00a",
   "metadata": {},
   "outputs": [
    {
     "name": "stdout",
     "output_type": "stream",
     "text": [
      "Index(['cord_uid', 'sha', 'source_x', 'title', 'doi', 'pmcid', 'pubmed_id',\n",
      "       'license', 'abstract', 'publish_time', 'authors', 'journal', 'mag_id',\n",
      "       'who_covidence_id', 'arxiv_id', 'pdf_json_files', 'pmc_json_files',\n",
      "       'url', 's2_id'],\n",
      "      dtype='object')\n"
     ]
    },
    {
     "data": {
      "text/html": [
       "<div>\n",
       "<style scoped>\n",
       "    .dataframe tbody tr th:only-of-type {\n",
       "        vertical-align: middle;\n",
       "    }\n",
       "\n",
       "    .dataframe tbody tr th {\n",
       "        vertical-align: top;\n",
       "    }\n",
       "\n",
       "    .dataframe thead th {\n",
       "        text-align: right;\n",
       "    }\n",
       "</style>\n",
       "<table border=\"1\" class=\"dataframe\">\n",
       "  <thead>\n",
       "    <tr style=\"text-align: right;\">\n",
       "      <th></th>\n",
       "      <th>cord_uid</th>\n",
       "      <th>sha</th>\n",
       "      <th>source_x</th>\n",
       "      <th>title</th>\n",
       "      <th>doi</th>\n",
       "      <th>pmcid</th>\n",
       "      <th>pubmed_id</th>\n",
       "      <th>license</th>\n",
       "      <th>abstract</th>\n",
       "      <th>publish_time</th>\n",
       "      <th>authors</th>\n",
       "      <th>journal</th>\n",
       "      <th>mag_id</th>\n",
       "      <th>who_covidence_id</th>\n",
       "      <th>arxiv_id</th>\n",
       "      <th>pdf_json_files</th>\n",
       "      <th>pmc_json_files</th>\n",
       "      <th>url</th>\n",
       "      <th>s2_id</th>\n",
       "    </tr>\n",
       "  </thead>\n",
       "  <tbody>\n",
       "    <tr>\n",
       "      <th>0</th>\n",
       "      <td>1r5qdcex</td>\n",
       "      <td>NaN</td>\n",
       "      <td>WHO</td>\n",
       "      <td>Monitoring of the Situation with the Coronavir...</td>\n",
       "      <td>NaN</td>\n",
       "      <td>NaN</td>\n",
       "      <td>NaN</td>\n",
       "      <td>unk</td>\n",
       "      <td>NaN</td>\n",
       "      <td>2021</td>\n",
       "      <td>Ponomarev, Yuriy Makarov Andrei Borzykh Ksenia...</td>\n",
       "      <td>NaN</td>\n",
       "      <td>NaN</td>\n",
       "      <td>#6390</td>\n",
       "      <td>NaN</td>\n",
       "      <td>NaN</td>\n",
       "      <td>NaN</td>\n",
       "      <td>NaN</td>\n",
       "      <td>233753285.0</td>\n",
       "    </tr>\n",
       "    <tr>\n",
       "      <th>1</th>\n",
       "      <td>pwlo7b3o</td>\n",
       "      <td>NaN</td>\n",
       "      <td>Medline</td>\n",
       "      <td>Assessing Provider-, Clinic-, and Structural-L...</td>\n",
       "      <td>10.1007/s10461-021-03297-7</td>\n",
       "      <td>NaN</td>\n",
       "      <td>33974167</td>\n",
       "      <td>unk</td>\n",
       "      <td>Intimate partner violence (IPV) relates to HIV...</td>\n",
       "      <td>2021-05-11</td>\n",
       "      <td>Caplon, Amy; Alexander, Kamila A; Kershaw, Tra...</td>\n",
       "      <td>AIDS and behavior</td>\n",
       "      <td>NaN</td>\n",
       "      <td>NaN</td>\n",
       "      <td>NaN</td>\n",
       "      <td>NaN</td>\n",
       "      <td>NaN</td>\n",
       "      <td>https://doi.org/10.1007/s10461-021-03297-7; ht...</td>\n",
       "      <td>234351144.0</td>\n",
       "    </tr>\n",
       "  </tbody>\n",
       "</table>\n",
       "</div>"
      ],
      "text/plain": [
       "   cord_uid  sha source_x                                              title  \\\n",
       "0  1r5qdcex  NaN      WHO  Monitoring of the Situation with the Coronavir...   \n",
       "1  pwlo7b3o  NaN  Medline  Assessing Provider-, Clinic-, and Structural-L...   \n",
       "\n",
       "                          doi pmcid pubmed_id license  \\\n",
       "0                         NaN   NaN       NaN     unk   \n",
       "1  10.1007/s10461-021-03297-7   NaN  33974167     unk   \n",
       "\n",
       "                                            abstract publish_time  \\\n",
       "0                                                NaN         2021   \n",
       "1  Intimate partner violence (IPV) relates to HIV...   2021-05-11   \n",
       "\n",
       "                                             authors            journal  \\\n",
       "0  Ponomarev, Yuriy Makarov Andrei Borzykh Ksenia...                NaN   \n",
       "1  Caplon, Amy; Alexander, Kamila A; Kershaw, Tra...  AIDS and behavior   \n",
       "\n",
       "   mag_id who_covidence_id arxiv_id pdf_json_files pmc_json_files  \\\n",
       "0     NaN            #6390      NaN            NaN            NaN   \n",
       "1     NaN              NaN      NaN            NaN            NaN   \n",
       "\n",
       "                                                 url        s2_id  \n",
       "0                                                NaN  233753285.0  \n",
       "1  https://doi.org/10.1007/s10461-021-03297-7; ht...  234351144.0  "
      ]
     },
     "execution_count": 9,
     "metadata": {},
     "output_type": "execute_result"
    }
   ],
   "source": [
    "DATA = pd.read_csv(\"metadata.csv\").sample(10000) # taking only 100000 research papers\n",
    "DATA.reset_index(inplace=True, drop=True)\n",
    "print(DATA.columns)\n",
    "DATA.head(2)"
   ]
  },
  {
   "cell_type": "code",
   "execution_count": 10,
   "id": "55124cde",
   "metadata": {},
   "outputs": [
    {
     "name": "stdout",
     "output_type": "stream",
     "text": [
      "<class 'pandas.core.frame.DataFrame'>\n",
      "RangeIndex: 10000 entries, 0 to 9999\n",
      "Data columns (total 19 columns):\n",
      " #   Column            Non-Null Count  Dtype  \n",
      "---  ------            --------------  -----  \n",
      " 0   cord_uid          10000 non-null  object \n",
      " 1   sha               3564 non-null   object \n",
      " 2   source_x          10000 non-null  object \n",
      " 3   title             9998 non-null   object \n",
      " 4   doi               6157 non-null   object \n",
      " 5   pmcid             3647 non-null   object \n",
      " 6   pubmed_id         4645 non-null   object \n",
      " 7   license           10000 non-null  object \n",
      " 8   abstract          7821 non-null   object \n",
      " 9   publish_time      9979 non-null   object \n",
      " 10  authors           9798 non-null   object \n",
      " 11  journal           9103 non-null   object \n",
      " 12  mag_id            0 non-null      float64\n",
      " 13  who_covidence_id  4646 non-null   object \n",
      " 14  arxiv_id          156 non-null    object \n",
      " 15  pdf_json_files    3564 non-null   object \n",
      " 16  pmc_json_files    2971 non-null   object \n",
      " 17  url               6433 non-null   object \n",
      " 18  s2_id             9259 non-null   float64\n",
      "dtypes: float64(2), object(17)\n",
      "memory usage: 1.4+ MB\n"
     ]
    }
   ],
   "source": [
    "DATA.info()"
   ]
  },
  {
   "cell_type": "markdown",
   "id": "c12e2db0",
   "metadata": {},
   "source": [
    "For each incoming query, **calculate semantic similarity** with all documents in the dataset and **pick top N publications** from the dataset."
   ]
  },
  {
   "cell_type": "code",
   "execution_count": 11,
   "id": "c79d14c8",
   "metadata": {},
   "outputs": [
    {
     "data": {
      "text/html": [
       "<div>\n",
       "<style scoped>\n",
       "    .dataframe tbody tr th:only-of-type {\n",
       "        vertical-align: middle;\n",
       "    }\n",
       "\n",
       "    .dataframe tbody tr th {\n",
       "        vertical-align: top;\n",
       "    }\n",
       "\n",
       "    .dataframe thead th {\n",
       "        text-align: right;\n",
       "    }\n",
       "</style>\n",
       "<table border=\"1\" class=\"dataframe\">\n",
       "  <thead>\n",
       "    <tr style=\"text-align: right;\">\n",
       "      <th></th>\n",
       "      <th>paper_id</th>\n",
       "      <th>title</th>\n",
       "      <th>abstract</th>\n",
       "      <th>doi</th>\n",
       "    </tr>\n",
       "  </thead>\n",
       "  <tbody>\n",
       "    <tr>\n",
       "      <th>0</th>\n",
       "      <td>NaN</td>\n",
       "      <td>Monitoring of the Situation with the Coronavir...</td>\n",
       "      <td>NaN</td>\n",
       "      <td>NaN</td>\n",
       "    </tr>\n",
       "    <tr>\n",
       "      <th>1</th>\n",
       "      <td>NaN</td>\n",
       "      <td>Assessing Provider-, Clinic-, and Structural-L...</td>\n",
       "      <td>Intimate partner violence (IPV) relates to HIV...</td>\n",
       "      <td>10.1007/s10461-021-03297-7</td>\n",
       "    </tr>\n",
       "    <tr>\n",
       "      <th>2</th>\n",
       "      <td>8c90218f153bc836445bea1d40ba86ab9291e822</td>\n",
       "      <td>Tocilizumab Treatment Effect on Iron Homeostas...</td>\n",
       "      <td>BACKGROUND: Tocilizumab has been proposed as a...</td>\n",
       "      <td>10.1159/000522307</td>\n",
       "    </tr>\n",
       "    <tr>\n",
       "      <th>3</th>\n",
       "      <td>NaN</td>\n",
       "      <td>Remote asthma consultations in primary care</td>\n",
       "      <td>The COVID-19 pandemic has accelerated the move...</td>\n",
       "      <td>10.12968/pnur.2021.32.1.10</td>\n",
       "    </tr>\n",
       "    <tr>\n",
       "      <th>4</th>\n",
       "      <td>NaN</td>\n",
       "      <td>Race, research, and urban education</td>\n",
       "      <td>The need to advance knowledge about policy, le...</td>\n",
       "      <td>NaN</td>\n",
       "    </tr>\n",
       "  </tbody>\n",
       "</table>\n",
       "</div>"
      ],
      "text/plain": [
       "                                   paper_id  \\\n",
       "0                                       NaN   \n",
       "1                                       NaN   \n",
       "2  8c90218f153bc836445bea1d40ba86ab9291e822   \n",
       "3                                       NaN   \n",
       "4                                       NaN   \n",
       "\n",
       "                                               title  \\\n",
       "0  Monitoring of the Situation with the Coronavir...   \n",
       "1  Assessing Provider-, Clinic-, and Structural-L...   \n",
       "2  Tocilizumab Treatment Effect on Iron Homeostas...   \n",
       "3        Remote asthma consultations in primary care   \n",
       "4                Race, research, and urban education   \n",
       "\n",
       "                                            abstract  \\\n",
       "0                                                NaN   \n",
       "1  Intimate partner violence (IPV) relates to HIV...   \n",
       "2  BACKGROUND: Tocilizumab has been proposed as a...   \n",
       "3  The COVID-19 pandemic has accelerated the move...   \n",
       "4  The need to advance knowledge about policy, le...   \n",
       "\n",
       "                          doi  \n",
       "0                         NaN  \n",
       "1  10.1007/s10461-021-03297-7  \n",
       "2           10.1159/000522307  \n",
       "3  10.12968/pnur.2021.32.1.10  \n",
       "4                         NaN  "
      ]
     },
     "execution_count": 11,
     "metadata": {},
     "output_type": "execute_result"
    }
   ],
   "source": [
    "df_covid = pd.DataFrame(columns=['paper_id', 'title','abstract', 'doi'])\n",
    "df_covid['paper_id'] = DATA.sha\n",
    "df_covid['title'] = DATA.title\n",
    "df_covid['abstract'] = DATA.abstract\n",
    "df_covid['doi'] = DATA.doi\n",
    "\n",
    "df_covid.head()"
   ]
  },
  {
   "cell_type": "code",
   "execution_count": 12,
   "id": "c251e1fd",
   "metadata": {},
   "outputs": [
    {
     "name": "stdout",
     "output_type": "stream",
     "text": [
      "<class 'pandas.core.frame.DataFrame'>\n",
      "RangeIndex: 10000 entries, 0 to 9999\n",
      "Data columns (total 4 columns):\n",
      " #   Column    Non-Null Count  Dtype \n",
      "---  ------    --------------  ----- \n",
      " 0   paper_id  3564 non-null   object\n",
      " 1   title     9998 non-null   object\n",
      " 2   abstract  7821 non-null   object\n",
      " 3   doi       6157 non-null   object\n",
      "dtypes: object(4)\n",
      "memory usage: 312.6+ KB\n"
     ]
    }
   ],
   "source": [
    "df_covid.info()"
   ]
  },
  {
   "cell_type": "code",
   "execution_count": 13,
   "id": "ee2537bb",
   "metadata": {},
   "outputs": [
    {
     "name": "stdout",
     "output_type": "stream",
     "text": [
      "<class 'pandas.core.frame.DataFrame'>\n",
      "Index: 2999 entries, 2 to 9996\n",
      "Data columns (total 4 columns):\n",
      " #   Column    Non-Null Count  Dtype \n",
      "---  ------    --------------  ----- \n",
      " 0   paper_id  2999 non-null   object\n",
      " 1   title     2999 non-null   object\n",
      " 2   abstract  2999 non-null   object\n",
      " 3   doi       2999 non-null   object\n",
      "dtypes: object(4)\n",
      "memory usage: 117.1+ KB\n"
     ]
    }
   ],
   "source": [
    "df_covid.drop_duplicates(['abstract'], inplace=True)\n",
    "df_covid.dropna(inplace=True)\n",
    "df_covid.info()"
   ]
  },
  {
   "cell_type": "code",
   "execution_count": 16,
   "id": "c4cad27e",
   "metadata": {},
   "outputs": [
    {
     "data": {
      "application/vnd.jupyter.widget-view+json": {
       "model_id": "e545ab5afe3640729e0a44747988cfd9",
       "version_major": 2,
       "version_minor": 0
      },
      "text/plain": [
       "  0%|          | 0/2999 [00:00<?, ?it/s]"
      ]
     },
     "metadata": {},
     "output_type": "display_data"
    }
   ],
   "source": [
    "# set seed\n",
    "DetectorFactory.seed = 0\n",
    "\n",
    "# hold label - language\n",
    "languages = []\n",
    "\n",
    "# loop through each text\n",
    "for ii in tqdm(range(0,len(df_covid))):\n",
    "    #print(ii)\n",
    "    text = df_covid.iloc[ii]['abstract'].split(\" \")\n",
    "    \n",
    "    lang = \"en\"\n",
    "    try:\n",
    "        if len(text) > 50:\n",
    "            lang = detect(\" \".join(text[:50]))\n",
    "        elif len(text) > 0:\n",
    "            lang = detect(\" \".join(text[:len(text)]))\n",
    "    except Exception as e:\n",
    "        all_words = set(text)\n",
    "        try:\n",
    "            lang = detect(\" \".join(all_words))\n",
    "        \n",
    "        except Exception as e:        \n",
    "            lang = \"unknown\"\n",
    "            pass\n",
    "    \n",
    "    # Appending to language label   \n",
    "    languages.append(lang)"
   ]
  },
  {
   "cell_type": "code",
   "execution_count": 17,
   "id": "1f69f598",
   "metadata": {},
   "outputs": [
    {
     "name": "stdout",
     "output_type": "stream",
     "text": [
      "Total: 2999\n",
      "\n",
      "{'en': 2975, 'it': 1, 'de': 7, 'es': 6, 'fr': 8, 'nl': 2}\n"
     ]
    }
   ],
   "source": [
    "languages_dict = {}\n",
    "for lang in set(languages):\n",
    "    languages_dict[lang] = languages.count(lang)\n",
    "    \n",
    "print(\"Total: {}\\n\".format(len(languages)))\n",
    "print(languages_dict)"
   ]
  },
  {
   "cell_type": "markdown",
   "id": "168ce49e",
   "metadata": {},
   "source": [
    "#### Since most of the publications are in English, we can safely drop the rest\n"
   ]
  },
  {
   "cell_type": "code",
   "execution_count": 18,
   "id": "e8d5dafd",
   "metadata": {},
   "outputs": [
    {
     "name": "stdout",
     "output_type": "stream",
     "text": [
      "<class 'pandas.core.frame.DataFrame'>\n",
      "Index: 2975 entries, 2 to 9996\n",
      "Data columns (total 5 columns):\n",
      " #   Column    Non-Null Count  Dtype \n",
      "---  ------    --------------  ----- \n",
      " 0   paper_id  2975 non-null   object\n",
      " 1   title     2975 non-null   object\n",
      " 2   abstract  2975 non-null   object\n",
      " 3   doi       2975 non-null   object\n",
      " 4   language  2975 non-null   object\n",
      "dtypes: object(5)\n",
      "memory usage: 139.5+ KB\n"
     ]
    }
   ],
   "source": [
    "df_covid['language'] = languages\n",
    "df_covid = df_covid[df_covid['language'] == 'en'] \n",
    "df_covid.info()"
   ]
  },
  {
   "cell_type": "code",
   "execution_count": 19,
   "id": "d324d5f0",
   "metadata": {},
   "outputs": [
    {
     "data": {
      "text/html": [
       "<div>\n",
       "<style scoped>\n",
       "    .dataframe tbody tr th:only-of-type {\n",
       "        vertical-align: middle;\n",
       "    }\n",
       "\n",
       "    .dataframe tbody tr th {\n",
       "        vertical-align: top;\n",
       "    }\n",
       "\n",
       "    .dataframe thead th {\n",
       "        text-align: right;\n",
       "    }\n",
       "</style>\n",
       "<table border=\"1\" class=\"dataframe\">\n",
       "  <thead>\n",
       "    <tr style=\"text-align: right;\">\n",
       "      <th></th>\n",
       "      <th>paper_id</th>\n",
       "      <th>title</th>\n",
       "      <th>abstract</th>\n",
       "      <th>doi</th>\n",
       "    </tr>\n",
       "  </thead>\n",
       "  <tbody>\n",
       "    <tr>\n",
       "      <th>2</th>\n",
       "      <td>8c90218f153bc836445bea1d40ba86ab9291e822</td>\n",
       "      <td>Tocilizumab Treatment Effect on Iron Homeostas...</td>\n",
       "      <td>BACKGROUND: Tocilizumab has been proposed as a...</td>\n",
       "      <td>10.1159/000522307</td>\n",
       "    </tr>\n",
       "    <tr>\n",
       "      <th>10</th>\n",
       "      <td>a6bb18c9c4e3bdedfbbd56e0fd2fa319b0fbd3ab</td>\n",
       "      <td>What Drives Water Utility Selection of Pricing...</td>\n",
       "      <td>Water pricing is a demand management strategy ...</td>\n",
       "      <td>10.1007/s11269-021-03018-8</td>\n",
       "    </tr>\n",
       "    <tr>\n",
       "      <th>12</th>\n",
       "      <td>bcd2a6c3add5665ab3208ff47c2312decee04229</td>\n",
       "      <td>The Influence of Post-Traumatic Growth on Coll...</td>\n",
       "      <td>Purpose: This study used a moderated mediation...</td>\n",
       "      <td>10.3389/fpsyg.2021.665973</td>\n",
       "    </tr>\n",
       "    <tr>\n",
       "      <th>24</th>\n",
       "      <td>9401f4fde129eb859595879fd4883a0e2a0c8b68</td>\n",
       "      <td>Hospital course and discharge criteria for chi...</td>\n",
       "      <td>BACKGROUND: For children hospitalized with bro...</td>\n",
       "      <td>10.1002/jhm.2318</td>\n",
       "    </tr>\n",
       "    <tr>\n",
       "      <th>25</th>\n",
       "      <td>d48edb44f059aee48ca0e126f95e006bc18968b9</td>\n",
       "      <td>Persistence of SARS-CoV-2 specific B- and T-ce...</td>\n",
       "      <td>Background Monitoring the adaptive immune resp...</td>\n",
       "      <td>10.1016/j.medj.2021.02.001</td>\n",
       "    </tr>\n",
       "  </tbody>\n",
       "</table>\n",
       "</div>"
      ],
      "text/plain": [
       "                                    paper_id  \\\n",
       "2   8c90218f153bc836445bea1d40ba86ab9291e822   \n",
       "10  a6bb18c9c4e3bdedfbbd56e0fd2fa319b0fbd3ab   \n",
       "12  bcd2a6c3add5665ab3208ff47c2312decee04229   \n",
       "24  9401f4fde129eb859595879fd4883a0e2a0c8b68   \n",
       "25  d48edb44f059aee48ca0e126f95e006bc18968b9   \n",
       "\n",
       "                                                title  \\\n",
       "2   Tocilizumab Treatment Effect on Iron Homeostas...   \n",
       "10  What Drives Water Utility Selection of Pricing...   \n",
       "12  The Influence of Post-Traumatic Growth on Coll...   \n",
       "24  Hospital course and discharge criteria for chi...   \n",
       "25  Persistence of SARS-CoV-2 specific B- and T-ce...   \n",
       "\n",
       "                                             abstract  \\\n",
       "2   BACKGROUND: Tocilizumab has been proposed as a...   \n",
       "10  Water pricing is a demand management strategy ...   \n",
       "12  Purpose: This study used a moderated mediation...   \n",
       "24  BACKGROUND: For children hospitalized with bro...   \n",
       "25  Background Monitoring the adaptive immune resp...   \n",
       "\n",
       "                           doi  \n",
       "2            10.1159/000522307  \n",
       "10  10.1007/s11269-021-03018-8  \n",
       "12   10.3389/fpsyg.2021.665973  \n",
       "24            10.1002/jhm.2318  \n",
       "25  10.1016/j.medj.2021.02.001  "
      ]
     },
     "execution_count": 19,
     "metadata": {},
     "output_type": "execute_result"
    }
   ],
   "source": [
    "df_covid = df_covid.drop(['language'], axis = 1) \n",
    "df_covid.head()"
   ]
  },
  {
   "cell_type": "code",
   "execution_count": 20,
   "id": "f313128f",
   "metadata": {},
   "outputs": [],
   "source": [
    "punctuations = string.punctuation\n",
    "stopwords = list(STOP_WORDS)"
   ]
  },
  {
   "cell_type": "code",
   "execution_count": 21,
   "id": "58a5d0be",
   "metadata": {},
   "outputs": [],
   "source": [
    "custom_stop_words = [\n",
    "    'doi', 'preprint', 'copyright', 'peer', 'reviewed', 'org', 'https', 'et', 'al', 'author', 'figure', \n",
    "    'rights', 'reserved', 'permission', 'used', 'using', 'biorxiv', 'medrxiv', 'license', 'fig', 'fig.', \n",
    "    'al.', 'Elsevier', 'PMC', 'CZI', 'www'\n",
    "]\n",
    "\n",
    "for w in custom_stop_words:\n",
    "    if w not in stopwords:\n",
    "        stopwords.append(w)"
   ]
  },
  {
   "cell_type": "markdown",
   "id": "9b19e70a",
   "metadata": {},
   "source": [
    "## cleaning abstracts"
   ]
  },
  {
   "cell_type": "code",
   "execution_count": 22,
   "id": "2715917b",
   "metadata": {},
   "outputs": [
    {
     "data": {
      "application/vnd.jupyter.widget-view+json": {
       "model_id": "c36b4e328d554bcaafd89644ba6fc739",
       "version_major": 2,
       "version_minor": 0
      },
      "text/plain": [
       "  0%|          | 0/2975 [00:00<?, ?it/s]"
      ]
     },
     "metadata": {},
     "output_type": "display_data"
    },
    {
     "data": {
      "text/html": [
       "<div>\n",
       "<style scoped>\n",
       "    .dataframe tbody tr th:only-of-type {\n",
       "        vertical-align: middle;\n",
       "    }\n",
       "\n",
       "    .dataframe tbody tr th {\n",
       "        vertical-align: top;\n",
       "    }\n",
       "\n",
       "    .dataframe thead th {\n",
       "        text-align: right;\n",
       "    }\n",
       "</style>\n",
       "<table border=\"1\" class=\"dataframe\">\n",
       "  <thead>\n",
       "    <tr style=\"text-align: right;\">\n",
       "      <th></th>\n",
       "      <th>paper_id</th>\n",
       "      <th>title</th>\n",
       "      <th>abstract</th>\n",
       "      <th>doi</th>\n",
       "      <th>processed_abstract</th>\n",
       "    </tr>\n",
       "  </thead>\n",
       "  <tbody>\n",
       "    <tr>\n",
       "      <th>2</th>\n",
       "      <td>8c90218f153bc836445bea1d40ba86ab9291e822</td>\n",
       "      <td>Tocilizumab Treatment Effect on Iron Homeostas...</td>\n",
       "      <td>BACKGROUND: Tocilizumab has been proposed as a...</td>\n",
       "      <td>10.1159/000522307</td>\n",
       "      <td>background: tocilizumab proposed effective tre...</td>\n",
       "    </tr>\n",
       "    <tr>\n",
       "      <th>10</th>\n",
       "      <td>a6bb18c9c4e3bdedfbbd56e0fd2fa319b0fbd3ab</td>\n",
       "      <td>What Drives Water Utility Selection of Pricing...</td>\n",
       "      <td>Water pricing is a demand management strategy ...</td>\n",
       "      <td>10.1007/s11269-021-03018-8</td>\n",
       "      <td>water pricing demand management strategy addre...</td>\n",
       "    </tr>\n",
       "    <tr>\n",
       "      <th>12</th>\n",
       "      <td>bcd2a6c3add5665ab3208ff47c2312decee04229</td>\n",
       "      <td>The Influence of Post-Traumatic Growth on Coll...</td>\n",
       "      <td>Purpose: This study used a moderated mediation...</td>\n",
       "      <td>10.3389/fpsyg.2021.665973</td>\n",
       "      <td>purpose: this study moderated mediation model ...</td>\n",
       "    </tr>\n",
       "    <tr>\n",
       "      <th>24</th>\n",
       "      <td>9401f4fde129eb859595879fd4883a0e2a0c8b68</td>\n",
       "      <td>Hospital course and discharge criteria for chi...</td>\n",
       "      <td>BACKGROUND: For children hospitalized with bro...</td>\n",
       "      <td>10.1002/jhm.2318</td>\n",
       "      <td>background: for children hospitalized bronchio...</td>\n",
       "    </tr>\n",
       "    <tr>\n",
       "      <th>25</th>\n",
       "      <td>d48edb44f059aee48ca0e126f95e006bc18968b9</td>\n",
       "      <td>Persistence of SARS-CoV-2 specific B- and T-ce...</td>\n",
       "      <td>Background Monitoring the adaptive immune resp...</td>\n",
       "      <td>10.1016/j.medj.2021.02.001</td>\n",
       "      <td>background monitoring adaptive immune response...</td>\n",
       "    </tr>\n",
       "  </tbody>\n",
       "</table>\n",
       "</div>"
      ],
      "text/plain": [
       "                                    paper_id  \\\n",
       "2   8c90218f153bc836445bea1d40ba86ab9291e822   \n",
       "10  a6bb18c9c4e3bdedfbbd56e0fd2fa319b0fbd3ab   \n",
       "12  bcd2a6c3add5665ab3208ff47c2312decee04229   \n",
       "24  9401f4fde129eb859595879fd4883a0e2a0c8b68   \n",
       "25  d48edb44f059aee48ca0e126f95e006bc18968b9   \n",
       "\n",
       "                                                title  \\\n",
       "2   Tocilizumab Treatment Effect on Iron Homeostas...   \n",
       "10  What Drives Water Utility Selection of Pricing...   \n",
       "12  The Influence of Post-Traumatic Growth on Coll...   \n",
       "24  Hospital course and discharge criteria for chi...   \n",
       "25  Persistence of SARS-CoV-2 specific B- and T-ce...   \n",
       "\n",
       "                                             abstract  \\\n",
       "2   BACKGROUND: Tocilizumab has been proposed as a...   \n",
       "10  Water pricing is a demand management strategy ...   \n",
       "12  Purpose: This study used a moderated mediation...   \n",
       "24  BACKGROUND: For children hospitalized with bro...   \n",
       "25  Background Monitoring the adaptive immune resp...   \n",
       "\n",
       "                           doi  \\\n",
       "2            10.1159/000522307   \n",
       "10  10.1007/s11269-021-03018-8   \n",
       "12   10.3389/fpsyg.2021.665973   \n",
       "24            10.1002/jhm.2318   \n",
       "25  10.1016/j.medj.2021.02.001   \n",
       "\n",
       "                                   processed_abstract  \n",
       "2   background: tocilizumab proposed effective tre...  \n",
       "10  water pricing demand management strategy addre...  \n",
       "12  purpose: this study moderated mediation model ...  \n",
       "24  background: for children hospitalized bronchio...  \n",
       "25  background monitoring adaptive immune response...  "
      ]
     },
     "execution_count": 22,
     "metadata": {},
     "output_type": "execute_result"
    }
   ],
   "source": [
    "def pre_processor(sentence):\n",
    "    mytokens = sentence.split(' ')\n",
    "    mytokens = [word.lower() for word in mytokens if word not in stopwords and word not in punctuations]\n",
    "    mytokens = \" \".join([i for i in mytokens])\n",
    "    return mytokens\n",
    "\n",
    "df_covid[\"processed_abstract\"] = df_covid[\"abstract\"].progress_apply(pre_processor)\n",
    "df_covid.head()"
   ]
  },
  {
   "cell_type": "code",
   "execution_count": 23,
   "id": "db242d47",
   "metadata": {},
   "outputs": [
    {
     "data": {
      "application/vnd.jupyter.widget-view+json": {
       "model_id": "d3b19087580a4664aaa833a2cfbc96f3",
       "version_major": 2,
       "version_minor": 0
      },
      "text/plain": [
       "  0%|          | 0/2975 [00:00<?, ?it/s]"
      ]
     },
     "metadata": {},
     "output_type": "display_data"
    }
   ],
   "source": [
    "abstracts = df_covid['processed_abstract'].values\n",
    "\n",
    "## Let us use Spacy for faster tokenization\n",
    "nlp = spacy.load('en_core_web_sm', disable=[\"tagger\", \"ner\"])  \n",
    "nlp.add_pipe('sentencizer')\n",
    "\n",
    "def tokenize_sentences(sentence):\n",
    "    sentence_corpus = []\n",
    "    doc = nlp(sentence)\n",
    "    sentences = [sent.text.strip() for sent in doc.sents]\n",
    "    for sent in sentences:\n",
    "        processed_sent_list = sent.split(\" \")\n",
    "        sentence_corpus.append(processed_sent_list)\n",
    "    return sentence_corpus\n",
    "\n",
    "df_covid['tokenized_abstract'] = df_covid['processed_abstract'].progress_apply(lambda x: tokenize_sentences(x))\n",
    "\n",
    "corpus_data = df_covid['tokenized_abstract'].to_list()\n",
    "word2vec_corpus = [item for items in corpus_data for item in items]"
   ]
  },
  {
   "cell_type": "markdown",
   "id": "e91fee55",
   "metadata": {},
   "source": [
    "#### Using Gensim's API to train Word2Vec\n",
    "\n",
    "#### Parameters:\n",
    "- **input** : Corpus data\n",
    "- **min_count** : Ignores all words with total frequency lower than this.\n",
    "- **size** : Dimensionality of the output word vectors.\n",
    "- **workers** : Use these many worker threads to train the model (=faster training with multicore machines).\n",
    "- **sg** : Training algorithm: 1 for skip-gram; otherwise CBOW.\n",
    "- **negative** : If > 0, negative sampling will be used, the int for negative specifies how many \"noise words\"."
   ]
  },
  {
   "cell_type": "code",
   "execution_count": 29,
   "id": "1568ff4d",
   "metadata": {},
   "outputs": [],
   "source": [
    "model = Word2Vec(word2vec_corpus, min_count=3, vector_size= 100, workers=4, window =5, sg = 1, negative=5)"
   ]
  },
  {
   "cell_type": "markdown",
   "id": "4a9c859e",
   "metadata": {},
   "source": [
    "#### Let us calculate the centroid for each abstract using the vectors of all the words incorporating the abstract."
   ]
  },
  {
   "cell_type": "code",
   "execution_count": 24,
   "id": "ac8603a9",
   "metadata": {},
   "outputs": [],
   "source": [
    "a = [0.0]*100\n",
    "df_covid[\"centroid\"] = [a]*df_covid.shape[0]\n",
    "\n",
    "for index, row in df_covid.iterrows():\n",
    "    abstract = row['processed_abstract']\n",
    "    total_sim = 0\n",
    "    words = abstract.split(\" \")\n",
    "    centroid = np.array([0.0]*100)\n",
    "    for word in words:\n",
    "        try:\n",
    "            b = model[word]\n",
    "        except:\n",
    "            continue\n",
    "        centroid = np.add(centroid, b)\n",
    "    \n",
    "    df_covid.at[index,'centroid'] = centroid.tolist()"
   ]
  },
  {
   "cell_type": "markdown",
   "id": "0cae0e69",
   "metadata": {},
   "source": [
    "#### Let us create our base function, which when given a query will retrieve and rank documents based on similarity."
   ]
  },
  {
   "cell_type": "code",
   "execution_count": 25,
   "id": "44966310",
   "metadata": {},
   "outputs": [],
   "source": [
    "def rank_docs(model, query, df_covid, num) :\n",
    "\n",
    "    cosine_list = []\n",
    "    \n",
    "    a = []\n",
    "    query = query.split(\" \")\n",
    "    for q in query:\n",
    "        try:\n",
    "            a.append(model[q])\n",
    "        except:\n",
    "            continue\n",
    "    \n",
    "    for index, row in df_covid.iterrows():\n",
    "        centroid = row['centroid']\n",
    "        total_sim = 0\n",
    "        for a_i in a:\n",
    "            cos_sim = np.dot(a_i, centroid)/(np.linalg.norm(a_i)*np.linalg.norm(centroid))\n",
    "            total_sim += cos_sim\n",
    "        cosine_list.append((row['title'], row['doi'], total_sim)) \n",
    "    \n",
    "    \n",
    "    cosine_list.sort(key=lambda x:x[2], reverse=True) ## in Descending order \n",
    "    \n",
    "    papers_list = []\n",
    "    for item in cosine_list[:num]:\n",
    "        papers_list.append((item[0], item[1], item[2]))\n",
    "    return papers_list"
   ]
  },
  {
   "cell_type": "code",
   "execution_count": 26,
   "id": "a1e99150",
   "metadata": {},
   "outputs": [],
   "source": [
    "def query(query, top_matches=10):\n",
    "    model_to_use = model\n",
    "    df_covid_to_use = df_covid\n",
    "    return rank_docs(model_to_use, query, df_covid_to_use, top_matches)"
   ]
  },
  {
   "cell_type": "code",
   "execution_count": 31,
   "id": "c50790cd",
   "metadata": {},
   "outputs": [
    {
     "data": {
      "text/plain": [
       "[('Tocilizumab Treatment Effect on Iron Homeostasis in Severe COVID-19 Patients',\n",
       "  '10.1159/000522307',\n",
       "  0),\n",
       " ('What Drives Water Utility Selection of Pricing Methods? Evidence from California',\n",
       "  '10.1007/s11269-021-03018-8',\n",
       "  0),\n",
       " ('The Influence of Post-Traumatic Growth on College Students’ Creativity During the COVID-19 Pandemic: The Mediating Role of General Self-Efficacy and the Moderating Role of Deliberate Rumination',\n",
       "  '10.3389/fpsyg.2021.665973',\n",
       "  0),\n",
       " ('Hospital course and discharge criteria for children hospitalized with bronchiolitis',\n",
       "  '10.1002/jhm.2318',\n",
       "  0),\n",
       " ('Persistence of SARS-CoV-2 specific B- and T-cell responses in convalescent COVID-19 patients 6-8 months after the infection',\n",
       "  '10.1016/j.medj.2021.02.001',\n",
       "  0),\n",
       " ('Health Delivery and Quality Assurance Programs for Mice',\n",
       "  '10.1016/b978-012369454-6/50065-0',\n",
       "  0),\n",
       " ('Imperfect innate immune antagonism renders SARS-CoV-2 vulnerable towards IFN-γ and -λ',\n",
       "  '10.1101/2020.10.15.340612',\n",
       "  0),\n",
       " ('Exploring the Gender Perspective in English Language Teaching (ELT): Voices from ELT Practitioners in Philippine Higher Education Institutions',\n",
       "  '10.1007/s12119-021-09840-x',\n",
       "  0),\n",
       " ('Cyst Nematode Infection Elicits Alteration in the Level of Reactive Nitrogen Species, Protein S-Nitrosylation and Nitration, and Nitrosoglutathione Reductase in Arabidopsis thaliana Roots',\n",
       "  '10.3390/antiox9090795',\n",
       "  0),\n",
       " ('siRNA Therapeutics against Respiratory Viral Infections—What Have We Learned for Potential COVID‐19 Therapies?',\n",
       "  '10.1002/adhm.202001650',\n",
       "  0)]"
      ]
     },
     "execution_count": 31,
     "metadata": {},
     "output_type": "execute_result"
    }
   ],
   "source": [
    "query('origin of corona virus')"
   ]
  },
  {
   "cell_type": "code",
   "execution_count": null,
   "id": "ea76b606",
   "metadata": {},
   "outputs": [],
   "source": []
  }
 ],
 "metadata": {
  "kernelspec": {
   "display_name": "Python 3 (ipykernel)",
   "language": "python",
   "name": "python3"
  },
  "language_info": {
   "codemirror_mode": {
    "name": "ipython",
    "version": 3
   },
   "file_extension": ".py",
   "mimetype": "text/x-python",
   "name": "python",
   "nbconvert_exporter": "python",
   "pygments_lexer": "ipython3",
   "version": "3.9.5"
  }
 },
 "nbformat": 4,
 "nbformat_minor": 5
}
