{
 "cells": [
  {
   "cell_type": "code",
   "execution_count": 1,
   "id": "cfee70b5",
   "metadata": {},
   "outputs": [
    {
     "name": "stdout",
     "output_type": "stream",
     "text": [
      "Requirement already satisfied: nltk in /usr/local/lib/python3.9/site-packages (3.9.1)\n",
      "Requirement already satisfied: click in /usr/local/lib/python3.9/site-packages (from nltk) (8.1.8)\n",
      "Requirement already satisfied: joblib in /usr/local/lib/python3.9/site-packages (from nltk) (1.2.0)\n",
      "Requirement already satisfied: regex>=2021.8.3 in /usr/local/lib/python3.9/site-packages (from nltk) (2024.11.6)\n",
      "Requirement already satisfied: tqdm in /usr/local/lib/python3.9/site-packages (from nltk) (4.67.1)\n"
     ]
    },
    {
     "name": "stderr",
     "output_type": "stream",
     "text": [
      "[nltk_data] Downloading package punkt to\n",
      "[nltk_data]     /Users/nrkhanchowdhury/nltk_data...\n",
      "[nltk_data]   Unzipping tokenizers/punkt.zip.\n"
     ]
    },
    {
     "data": {
      "text/plain": [
       "True"
      ]
     },
     "execution_count": 1,
     "metadata": {},
     "output_type": "execute_result"
    }
   ],
   "source": [
    "import os\n",
    "import re \n",
    "import random\n",
    "import string      # for string operations    \n",
    "import pandas as pd\n",
    "import numpy as np     \n",
    "import matplotlib.pyplot as plt \n",
    "from sklearn.model_selection import train_test_split\n",
    "from sklearn.linear_model import LogisticRegression\n",
    "# SetUp NLTK\n",
    "!pip install --user -U nltk\n",
    "import nltk\n",
    "nltk.download('punkt')"
   ]
  },
  {
   "cell_type": "code",
   "execution_count": 5,
   "id": "5ebb7411",
   "metadata": {},
   "outputs": [
    {
     "name": "stderr",
     "output_type": "stream",
     "text": [
      "/usr/local/lib/python3.9/site-packages/tqdm/auto.py:21: TqdmWarning: IProgress not found. Please update jupyter and ipywidgets. See https://ipywidgets.readthedocs.io/en/stable/user_install.html\n",
      "  from .autonotebook import tqdm as notebook_tqdm\n"
     ]
    },
    {
     "name": "stdout",
     "output_type": "stream",
     "text": [
      "Downloading from https://www.kaggle.com/api/v1/datasets/download/datatattle/covid-19-nlp-text-classification?dataset_version_number=1...\n"
     ]
    },
    {
     "name": "stderr",
     "output_type": "stream",
     "text": [
      "100%|██████████████████████████████████████| 4.38M/4.38M [00:02<00:00, 2.12MB/s]"
     ]
    },
    {
     "name": "stdout",
     "output_type": "stream",
     "text": [
      "Extracting files...\n"
     ]
    },
    {
     "name": "stderr",
     "output_type": "stream",
     "text": [
      "\n"
     ]
    },
    {
     "name": "stdout",
     "output_type": "stream",
     "text": [
      "Path to dataset files: /Users/nrkhanchowdhury/.cache/kagglehub/datasets/datatattle/covid-19-nlp-text-classification/versions/1\n"
     ]
    }
   ],
   "source": [
    "import kagglehub\n",
    "\n",
    "# Download latest version\n",
    "path = kagglehub.dataset_download(\"datatattle/covid-19-nlp-text-classification\")\n",
    "\n",
    "print(\"Path to dataset files:\", path)"
   ]
  },
  {
   "cell_type": "code",
   "execution_count": 12,
   "id": "de7f7cfb",
   "metadata": {},
   "outputs": [
    {
     "name": "stdout",
     "output_type": "stream",
     "text": [
      "(41157, 6)\n"
     ]
    },
    {
     "data": {
      "text/html": [
       "<div>\n",
       "<style scoped>\n",
       "    .dataframe tbody tr th:only-of-type {\n",
       "        vertical-align: middle;\n",
       "    }\n",
       "\n",
       "    .dataframe tbody tr th {\n",
       "        vertical-align: top;\n",
       "    }\n",
       "\n",
       "    .dataframe thead th {\n",
       "        text-align: right;\n",
       "    }\n",
       "</style>\n",
       "<table border=\"1\" class=\"dataframe\">\n",
       "  <thead>\n",
       "    <tr style=\"text-align: right;\">\n",
       "      <th></th>\n",
       "      <th>UserName</th>\n",
       "      <th>ScreenName</th>\n",
       "      <th>Location</th>\n",
       "      <th>TweetAt</th>\n",
       "      <th>OriginalTweet</th>\n",
       "      <th>Sentiment</th>\n",
       "    </tr>\n",
       "  </thead>\n",
       "  <tbody>\n",
       "    <tr>\n",
       "      <th>0</th>\n",
       "      <td>3799</td>\n",
       "      <td>48751</td>\n",
       "      <td>London</td>\n",
       "      <td>16-03-2020</td>\n",
       "      <td>@MeNyrbie @Phil_Gahan @Chrisitv https://t.co/i...</td>\n",
       "      <td>Neutral</td>\n",
       "    </tr>\n",
       "    <tr>\n",
       "      <th>1</th>\n",
       "      <td>3800</td>\n",
       "      <td>48752</td>\n",
       "      <td>UK</td>\n",
       "      <td>16-03-2020</td>\n",
       "      <td>advice Talk to your neighbours family to excha...</td>\n",
       "      <td>Positive</td>\n",
       "    </tr>\n",
       "    <tr>\n",
       "      <th>2</th>\n",
       "      <td>3801</td>\n",
       "      <td>48753</td>\n",
       "      <td>Vagabonds</td>\n",
       "      <td>16-03-2020</td>\n",
       "      <td>Coronavirus Australia: Woolworths to give elde...</td>\n",
       "      <td>Positive</td>\n",
       "    </tr>\n",
       "    <tr>\n",
       "      <th>3</th>\n",
       "      <td>3802</td>\n",
       "      <td>48754</td>\n",
       "      <td>NaN</td>\n",
       "      <td>16-03-2020</td>\n",
       "      <td>My food stock is not the only one which is emp...</td>\n",
       "      <td>Positive</td>\n",
       "    </tr>\n",
       "    <tr>\n",
       "      <th>4</th>\n",
       "      <td>3803</td>\n",
       "      <td>48755</td>\n",
       "      <td>NaN</td>\n",
       "      <td>16-03-2020</td>\n",
       "      <td>Me, ready to go at supermarket during the #COV...</td>\n",
       "      <td>Extremely Negative</td>\n",
       "    </tr>\n",
       "    <tr>\n",
       "      <th>5</th>\n",
       "      <td>3804</td>\n",
       "      <td>48756</td>\n",
       "      <td>ÜT: 36.319708,-82.363649</td>\n",
       "      <td>16-03-2020</td>\n",
       "      <td>As news of the regions first confirmed COVID-...</td>\n",
       "      <td>Positive</td>\n",
       "    </tr>\n",
       "    <tr>\n",
       "      <th>6</th>\n",
       "      <td>3805</td>\n",
       "      <td>48757</td>\n",
       "      <td>35.926541,-78.753267</td>\n",
       "      <td>16-03-2020</td>\n",
       "      <td>Cashier at grocery store was sharing his insig...</td>\n",
       "      <td>Positive</td>\n",
       "    </tr>\n",
       "    <tr>\n",
       "      <th>7</th>\n",
       "      <td>3806</td>\n",
       "      <td>48758</td>\n",
       "      <td>Austria</td>\n",
       "      <td>16-03-2020</td>\n",
       "      <td>Was at the supermarket today. Didn't buy toile...</td>\n",
       "      <td>Neutral</td>\n",
       "    </tr>\n",
       "    <tr>\n",
       "      <th>8</th>\n",
       "      <td>3807</td>\n",
       "      <td>48759</td>\n",
       "      <td>Atlanta, GA USA</td>\n",
       "      <td>16-03-2020</td>\n",
       "      <td>Due to COVID-19 our retail store and classroom...</td>\n",
       "      <td>Positive</td>\n",
       "    </tr>\n",
       "    <tr>\n",
       "      <th>9</th>\n",
       "      <td>3808</td>\n",
       "      <td>48760</td>\n",
       "      <td>BHAVNAGAR,GUJRAT</td>\n",
       "      <td>16-03-2020</td>\n",
       "      <td>For corona prevention,we should stop to buy th...</td>\n",
       "      <td>Negative</td>\n",
       "    </tr>\n",
       "  </tbody>\n",
       "</table>\n",
       "</div>"
      ],
      "text/plain": [
       "   UserName  ScreenName                  Location     TweetAt  \\\n",
       "0      3799       48751                    London  16-03-2020   \n",
       "1      3800       48752                        UK  16-03-2020   \n",
       "2      3801       48753                 Vagabonds  16-03-2020   \n",
       "3      3802       48754                       NaN  16-03-2020   \n",
       "4      3803       48755                       NaN  16-03-2020   \n",
       "5      3804       48756  ÜT: 36.319708,-82.363649  16-03-2020   \n",
       "6      3805       48757      35.926541,-78.753267  16-03-2020   \n",
       "7      3806       48758                   Austria  16-03-2020   \n",
       "8      3807       48759           Atlanta, GA USA  16-03-2020   \n",
       "9      3808       48760          BHAVNAGAR,GUJRAT  16-03-2020   \n",
       "\n",
       "                                       OriginalTweet           Sentiment  \n",
       "0  @MeNyrbie @Phil_Gahan @Chrisitv https://t.co/i...             Neutral  \n",
       "1  advice Talk to your neighbours family to excha...            Positive  \n",
       "2  Coronavirus Australia: Woolworths to give elde...            Positive  \n",
       "3  My food stock is not the only one which is emp...            Positive  \n",
       "4  Me, ready to go at supermarket during the #COV...  Extremely Negative  \n",
       "5  As news of the regions first confirmed COVID-...            Positive  \n",
       "6  Cashier at grocery store was sharing his insig...            Positive  \n",
       "7  Was at the supermarket today. Didn't buy toile...             Neutral  \n",
       "8  Due to COVID-19 our retail store and classroom...            Positive  \n",
       "9  For corona prevention,we should stop to buy th...            Negative  "
      ]
     },
     "execution_count": 12,
     "metadata": {},
     "output_type": "execute_result"
    }
   ],
   "source": [
    "dataframe = pd.read_csv(\"./Desktop/Corona_NLP_train.csv\", encoding=\"utf-8\", encoding_errors=\"replace\")\n",
    "print(dataframe.shape)\n",
    "dataframe.head(10)"
   ]
  },
  {
   "cell_type": "code",
   "execution_count": 13,
   "id": "2598a096",
   "metadata": {},
   "outputs": [
    {
     "name": "stdout",
     "output_type": "stream",
     "text": [
      "Labels in the dataset:  ['Neutral' 'Positive' 'Extremely Negative' 'Negative' 'Extremely Positive']\n",
      "Sentiment\n",
      "Positive              11422\n",
      "Negative               9917\n",
      "Neutral                7713\n",
      "Extremely Positive     6624\n",
      "Extremely Negative     5481\n",
      "Name: count, dtype: int64\n"
     ]
    },
    {
     "data": {
      "image/png": "[encoded data removed]",
      "text/plain": [
       "<Figure size 500x500 with 1 Axes>"
      ]
     },
     "metadata": {},
     "output_type": "display_data"
    }
   ],
   "source": [
    "# Check tweets distribution \n",
    "def pie_chart(dataframe):\n",
    "  # Converting pd object to list of string\n",
    "  label_types  = dataframe.Sentiment.unique().astype(str) \n",
    "  # Count tweets for each label\n",
    "  label_counts = dataframe.Sentiment.value_counts()     \n",
    "  print('Labels in the dataset: ', label_types) \n",
    "  print(label_counts)\n",
    "  # labels for the two classes\n",
    "  labels = label_types #'Positives', 'Negative'\n",
    "  # Sizes for each slide\n",
    "  sizes = [count for count in label_counts]\n",
    "  # Declare a figure with a custom size\n",
    "  fig = plt.figure(figsize=(5, 5))\n",
    "  # Declare pie chart, where the slices will be ordered and plotted counter-clockwise:\n",
    "  plt.pie(sizes, labels=labels, autopct='%1.1f%%',\n",
    "          shadow=True, startangle=90)\n",
    "  # Equal aspect ratio ensures that pie is drawn as a circle.\n",
    "  plt.axis('equal') \n",
    "  # Display the chart\n",
    "  plt.show()\n",
    "\n",
    "pie_chart(dataframe)"
   ]
  },
  {
   "cell_type": "code",
   "execution_count": 17,
   "id": "622a2119",
   "metadata": {},
   "outputs": [
    {
     "data": {
      "text/plain": [
       "(11422, 6)"
      ]
     },
     "execution_count": 17,
     "metadata": {},
     "output_type": "execute_result"
    }
   ],
   "source": [
    "dataframe[dataframe['Sentiment'] == 'Positive']['OriginalTweet'].shape"
   ]
  },
  {
   "cell_type": "code",
   "execution_count": 18,
   "id": "50dfa61c",
   "metadata": {},
   "outputs": [
    {
     "name": "stdout",
     "output_type": "stream",
     "text": [
      "(3798, 6)\n"
     ]
    },
    {
     "data": {
      "text/html": [
       "<div>\n",
       "<style scoped>\n",
       "    .dataframe tbody tr th:only-of-type {\n",
       "        vertical-align: middle;\n",
       "    }\n",
       "\n",
       "    .dataframe tbody tr th {\n",
       "        vertical-align: top;\n",
       "    }\n",
       "\n",
       "    .dataframe thead th {\n",
       "        text-align: right;\n",
       "    }\n",
       "</style>\n",
       "<table border=\"1\" class=\"dataframe\">\n",
       "  <thead>\n",
       "    <tr style=\"text-align: right;\">\n",
       "      <th></th>\n",
       "      <th>UserName</th>\n",
       "      <th>ScreenName</th>\n",
       "      <th>Location</th>\n",
       "      <th>TweetAt</th>\n",
       "      <th>OriginalTweet</th>\n",
       "      <th>Sentiment</th>\n",
       "    </tr>\n",
       "  </thead>\n",
       "  <tbody>\n",
       "    <tr>\n",
       "      <th>0</th>\n",
       "      <td>1</td>\n",
       "      <td>44953</td>\n",
       "      <td>NYC</td>\n",
       "      <td>02-03-2020</td>\n",
       "      <td>TRENDING: New Yorkers encounter empty supermar...</td>\n",
       "      <td>Extremely Negative</td>\n",
       "    </tr>\n",
       "    <tr>\n",
       "      <th>1</th>\n",
       "      <td>2</td>\n",
       "      <td>44954</td>\n",
       "      <td>Seattle, WA</td>\n",
       "      <td>02-03-2020</td>\n",
       "      <td>When I couldn't find hand sanitizer at Fred Me...</td>\n",
       "      <td>Positive</td>\n",
       "    </tr>\n",
       "    <tr>\n",
       "      <th>2</th>\n",
       "      <td>3</td>\n",
       "      <td>44955</td>\n",
       "      <td>NaN</td>\n",
       "      <td>02-03-2020</td>\n",
       "      <td>Find out how you can protect yourself and love...</td>\n",
       "      <td>Extremely Positive</td>\n",
       "    </tr>\n",
       "    <tr>\n",
       "      <th>3</th>\n",
       "      <td>4</td>\n",
       "      <td>44956</td>\n",
       "      <td>Chicagoland</td>\n",
       "      <td>02-03-2020</td>\n",
       "      <td>#Panic buying hits #NewYork City as anxious sh...</td>\n",
       "      <td>Negative</td>\n",
       "    </tr>\n",
       "    <tr>\n",
       "      <th>4</th>\n",
       "      <td>5</td>\n",
       "      <td>44957</td>\n",
       "      <td>Melbourne, Victoria</td>\n",
       "      <td>03-03-2020</td>\n",
       "      <td>#toiletpaper #dunnypaper #coronavirus #coronav...</td>\n",
       "      <td>Neutral</td>\n",
       "    </tr>\n",
       "    <tr>\n",
       "      <th>5</th>\n",
       "      <td>6</td>\n",
       "      <td>44958</td>\n",
       "      <td>Los Angeles</td>\n",
       "      <td>03-03-2020</td>\n",
       "      <td>Do you remember the last time you paid $2.99 a...</td>\n",
       "      <td>Neutral</td>\n",
       "    </tr>\n",
       "    <tr>\n",
       "      <th>6</th>\n",
       "      <td>7</td>\n",
       "      <td>44959</td>\n",
       "      <td>NaN</td>\n",
       "      <td>03-03-2020</td>\n",
       "      <td>Voting in the age of #coronavirus = hand sanit...</td>\n",
       "      <td>Positive</td>\n",
       "    </tr>\n",
       "    <tr>\n",
       "      <th>7</th>\n",
       "      <td>8</td>\n",
       "      <td>44960</td>\n",
       "      <td>Geneva, Switzerland</td>\n",
       "      <td>03-03-2020</td>\n",
       "      <td>@DrTedros \"We cant stop #COVID19 without prot...</td>\n",
       "      <td>Neutral</td>\n",
       "    </tr>\n",
       "    <tr>\n",
       "      <th>8</th>\n",
       "      <td>9</td>\n",
       "      <td>44961</td>\n",
       "      <td>NaN</td>\n",
       "      <td>04-03-2020</td>\n",
       "      <td>HI TWITTER! I am a pharmacist. I sell hand san...</td>\n",
       "      <td>Extremely Negative</td>\n",
       "    </tr>\n",
       "    <tr>\n",
       "      <th>9</th>\n",
       "      <td>10</td>\n",
       "      <td>44962</td>\n",
       "      <td>Dublin, Ireland</td>\n",
       "      <td>04-03-2020</td>\n",
       "      <td>Anyone been in a supermarket over the last few...</td>\n",
       "      <td>Extremely Positive</td>\n",
       "    </tr>\n",
       "  </tbody>\n",
       "</table>\n",
       "</div>"
      ],
      "text/plain": [
       "   UserName  ScreenName             Location     TweetAt  \\\n",
       "0         1       44953                  NYC  02-03-2020   \n",
       "1         2       44954          Seattle, WA  02-03-2020   \n",
       "2         3       44955                  NaN  02-03-2020   \n",
       "3         4       44956          Chicagoland  02-03-2020   \n",
       "4         5       44957  Melbourne, Victoria  03-03-2020   \n",
       "5         6       44958          Los Angeles  03-03-2020   \n",
       "6         7       44959                  NaN  03-03-2020   \n",
       "7         8       44960  Geneva, Switzerland  03-03-2020   \n",
       "8         9       44961                  NaN  04-03-2020   \n",
       "9        10       44962      Dublin, Ireland  04-03-2020   \n",
       "\n",
       "                                       OriginalTweet           Sentiment  \n",
       "0  TRENDING: New Yorkers encounter empty supermar...  Extremely Negative  \n",
       "1  When I couldn't find hand sanitizer at Fred Me...            Positive  \n",
       "2  Find out how you can protect yourself and love...  Extremely Positive  \n",
       "3  #Panic buying hits #NewYork City as anxious sh...            Negative  \n",
       "4  #toiletpaper #dunnypaper #coronavirus #coronav...             Neutral  \n",
       "5  Do you remember the last time you paid $2.99 a...             Neutral  \n",
       "6  Voting in the age of #coronavirus = hand sanit...            Positive  \n",
       "7  @DrTedros \"We cant stop #COVID19 without prot...             Neutral  \n",
       "8  HI TWITTER! I am a pharmacist. I sell hand san...  Extremely Negative  \n",
       "9  Anyone been in a supermarket over the last few...  Extremely Positive  "
      ]
     },
     "execution_count": 18,
     "metadata": {},
     "output_type": "execute_result"
    }
   ],
   "source": [
    "df_test = pd.read_csv(\"./Desktop/Corona_NLP_test.csv\", encoding=\"utf-8\", encoding_errors=\"replace\")\n",
    "print(df_test.shape)\n",
    "df_test.head(10)"
   ]
  },
  {
   "cell_type": "code",
   "execution_count": 19,
   "id": "471a4a58",
   "metadata": {},
   "outputs": [
    {
     "name": "stdout",
     "output_type": "stream",
     "text": [
      "Labels in the dataset:  ['Extremely Negative' 'Positive' 'Extremely Positive' 'Negative' 'Neutral']\n",
      "Sentiment\n",
      "Negative              1041\n",
      "Positive               947\n",
      "Neutral                619\n",
      "Extremely Positive     599\n",
      "Extremely Negative     592\n",
      "Name: count, dtype: int64\n"
     ]
    },
    {
     "data": {
      "image/png": "[encoded data removed]",
      "text/plain": [
       "<Figure size 500x500 with 1 Axes>"
      ]
     },
     "metadata": {},
     "output_type": "display_data"
    }
   ],
   "source": [
    "# Check tweets distribution \n",
    "def pie_chart(df_test):\n",
    "  # Converting pd object to list of string\n",
    "  label_types  = df_test.Sentiment.unique().astype(str) \n",
    "  # Count tweets for each label\n",
    "  label_counts = df_test.Sentiment.value_counts()     \n",
    "  print('Labels in the dataset: ', label_types) \n",
    "  print(label_counts)\n",
    "  # labels for the two classes\n",
    "  labels = label_types #'Positives', 'Negative'\n",
    "  # Sizes for each slide\n",
    "  sizes = [count for count in label_counts]\n",
    "  # Declare a figure with a custom size\n",
    "  fig = plt.figure(figsize=(5, 5))\n",
    "  # Declare pie chart, where the slices will be ordered and plotted counter-clockwise:\n",
    "  plt.pie(sizes, labels=labels, autopct='%1.1f%%',\n",
    "          shadow=True, startangle=90)\n",
    "  # Equal aspect ratio ensures that pie is drawn as a circle.\n",
    "  plt.axis('equal') \n",
    "  # Display the chart\n",
    "  plt.show()\n",
    "\n",
    "pie_chart(df_test)"
   ]
  },
  {
   "cell_type": "markdown",
   "id": "2515ec27",
   "metadata": {},
   "source": [
    "## Split into +ve and -ve "
   ]
  },
  {
   "cell_type": "code",
   "execution_count": 63,
   "id": "5d8e5e8b",
   "metadata": {},
   "outputs": [
    {
     "name": "stdout",
     "output_type": "stream",
     "text": [
      "Size of training dataset:  19834\n",
      "Size of testing dataset:  1894\n",
      "\u001b[92m\n",
      "positive in green: \n",
      "\u001b[92mSelf-quarantine = online shopping...I hope the banks are open after all this settles down because I may need a small personal loan...TO MYSELF #SOS #Covid_19 ?\n",
      "\u001b[91m\n",
      "negative in red: \n",
      "\u001b[91mThere is plenty of food. Plenty of TP. Plenty of alcohol. The reason there are shortages is because of panic buying. Italy is a few weeks ahead of us in spread and lockdown but the groceries are full and everyone has everything they need, except for hospital beds. #coronavirus\n"
     ]
    }
   ],
   "source": [
    "# Separating positive_tweets and negative_tweets\n",
    "positive_train = list(dataframe[dataframe['Sentiment'] == 'Positive']['OriginalTweet'].astype(str))[:9917] # Making equal positive and negative tweet counts\n",
    "negative_train = list(dataframe[dataframe['Sentiment'] == 'Negative']['OriginalTweet'].astype(str))\n",
    "\n",
    "# Splitting training and testing set. 80/20 split\n",
    "positive_test = list(df_test[df_test['Sentiment'] == 'Positive']['OriginalTweet'].astype(str))\n",
    "negative_test = list(df_test[df_test['Sentiment'] == 'Negative']['OriginalTweet'].astype(str))[:947]\n",
    "\n",
    "print(\"Size of training dataset: \",len(positive_train) + len(negative_train))\n",
    "print(\"Size of testing dataset: \", len(positive_test)  + len(negative_test))\n",
    "\n",
    "# print positive in green\n",
    "print('\\033[92m' + '\\npositive in green: ')\n",
    "print('\\033[92m' + positive_train[random.randint(0,947)])\n",
    "print('\\033[91m' + '\\nnegative in red: ')\n",
    "# print negative in red\n",
    "print('\\033[91m' + negative_train[random.randint(0,947)])"
   ]
  },
  {
   "cell_type": "markdown",
   "id": "a0a21a6b",
   "metadata": {},
   "source": [
    "### Word tokenization: split large text samples into words. "
   ]
  },
  {
   "cell_type": "code",
   "execution_count": 22,
   "id": "b5a49507",
   "metadata": {},
   "outputs": [
    {
     "name": "stdout",
     "output_type": "stream",
     "text": [
      "Using Split : ['Now', 'I', 'can', 'go', 'to', 'the', 'supermarket', 'like', 'this', 'without', 'being', 'judged!', '?', '#CoronavirusOutbreak', '#COVID2019', 'https://t.co/krTCGiUHQS']\n"
     ]
    }
   ],
   "source": [
    "# Split on spaces\n",
    "tweet = positive_train[12] \n",
    "word = tweet.split() # space tokenizer\n",
    "print('Using Split :',word)"
   ]
  },
  {
   "cell_type": "code",
   "execution_count": 23,
   "id": "0f60ad05",
   "metadata": {},
   "outputs": [
    {
     "name": "stdout",
     "output_type": "stream",
     "text": [
      "Using regexes : ['Now', 'I', 'can', 'go', 'to', 'the', 'supermarket', 'like', 'this', 'without', 'being', 'judged', 'CoronavirusOutbreak', 'COVID2019', 'https', 't', 'co', 'krTCGiUHQS']\n"
     ]
    }
   ],
   "source": [
    "# Using 're' library to work with regular expression.\n",
    "tokens = re.findall(\"[\\w']+\", tweet)  ##\\w -> .Python 3: \"word character\":\n",
    "print('Using regexes :',tokens)"
   ]
  },
  {
   "cell_type": "markdown",
   "id": "82581759",
   "metadata": {},
   "source": [
    "### NLTK contains a module called `tokenize`, which has the `word_tokenize()` method to split a sentence into tokens."
   ]
  },
  {
   "cell_type": "code",
   "execution_count": 26,
   "id": "24c05d9e",
   "metadata": {},
   "outputs": [
    {
     "name": "stdout",
     "output_type": "stream",
     "text": [
      "Using NLTK : ['Now', 'I', 'can', 'go', 'to', 'the', 'supermarket', 'like', 'this', 'without', 'being', 'judged', '!', '?', '#', 'CoronavirusOutbreak', '#', 'COVID2019', 'https', ':', '//t.co/krTCGiUHQS']\n"
     ]
    }
   ],
   "source": [
    "from nltk.tokenize import word_tokenize\n",
    "\n",
    "words = word_tokenize(tweet)\n",
    "print('Using NLTK :',words)"
   ]
  },
  {
   "cell_type": "code",
   "execution_count": 27,
   "id": "e711a321",
   "metadata": {},
   "outputs": [
    {
     "name": "stdout",
     "output_type": "stream",
     "text": [
      "Using Splits : ['Now I can go to the supermarket like this without being judged! ? #CoronavirusOutbreak #COVID2019 https://t.co/krTCGiUHQS']\n",
      "Using regexes : ['Now I can go to the supermarket like this without being judged', '', '#CoronavirusOutbreak #COVID2019 https://t.co/krTCGiUHQS']\n"
     ]
    }
   ],
   "source": [
    "# Splits at '.' \n",
    "splits = tweet.split('. ')\n",
    "print('Using Splits :',splits)\n",
    "\n",
    "# Using Regular Expressions (RegEx)\n",
    "sentence_splits = re.compile('[.!?] ').split(tweet)\n",
    "print('Using regexes :',sentence_splits)"
   ]
  },
  {
   "cell_type": "code",
   "execution_count": 28,
   "id": "8c2fd3f1",
   "metadata": {},
   "outputs": [
    {
     "name": "stdout",
     "output_type": "stream",
     "text": [
      "Using NLTK : ['Now I can go to the supermarket like this without being judged!', '?', '#CoronavirusOutbreak #COVID2019 https://t.co/krTCGiUHQS']\n"
     ]
    }
   ],
   "source": [
    "# Using NLTK\n",
    "from nltk.tokenize import sent_tokenize\n",
    "sentence_splits = sent_tokenize(tweet)\n",
    "print('Using NLTK :',sentence_splits)"
   ]
  },
  {
   "cell_type": "code",
   "execution_count": 29,
   "id": "ef5fb02f",
   "metadata": {},
   "outputs": [
    {
     "data": {
      "text/plain": [
       "'Now I can go to the supermarket like this without being judged! ? #CoronavirusOutbreak #COVID2019 https://t.co/krTCGiUHQS'"
      ]
     },
     "execution_count": 29,
     "metadata": {},
     "output_type": "execute_result"
    }
   ],
   "source": [
    "tweet"
   ]
  },
  {
   "cell_type": "code",
   "execution_count": 30,
   "id": "6130078e",
   "metadata": {},
   "outputs": [],
   "source": [
    "import nltk                                # Python library for NLP\n",
    "from nltk.corpus import twitter_samples    # sample Twitter dataset from NLTK\n",
    "from nltk.corpus import stopwords          # module for stop words that come with NLTK\n",
    "from nltk.stem import PorterStemmer        # module for stemming\n",
    "from nltk.tokenize import TweetTokenizer   # tweeter specifci tokenizer"
   ]
  },
  {
   "cell_type": "code",
   "execution_count": 31,
   "id": "5ad974e6",
   "metadata": {},
   "outputs": [
    {
     "name": "stdout",
     "output_type": "stream",
     "text": [
      "\u001b[92mNow I can go to the supermarket like this without being judged! ? #CoronavirusOutbreak #COVID2019 https://t.co/krTCGiUHQS\n",
      "\u001b[94m\n",
      "Now I can go to the supermarket like this without being judged! ? CoronavirusOutbreak COVID2019 \n"
     ]
    }
   ],
   "source": [
    "# Removing hyperlinks and hashtags\n",
    "\n",
    "print('\\033[92m' + tweet)\n",
    "print('\\033[94m')\n",
    "\n",
    "# remove old style retweet text \"RT\"\n",
    "tweet2 = re.sub(r'^RT[\\s]+', '', tweet)\n",
    "\n",
    "# remove hyperlinks\n",
    "tweet2 = re.sub(r'https?://[^\\s\\n\\r]+', '', tweet2)\n",
    "\n",
    "# remove hashtags\n",
    "# only removing the hash # sign from the word\n",
    "tweet2 = re.sub(r'#', '', tweet2)\n",
    "print(tweet2)"
   ]
  },
  {
   "cell_type": "code",
   "execution_count": 32,
   "id": "d7f9965d",
   "metadata": {},
   "outputs": [
    {
     "name": "stdout",
     "output_type": "stream",
     "text": [
      "\n",
      "\u001b[92mNow I can go to the supermarket like this without being judged! ? CoronavirusOutbreak COVID2019 \n",
      "\u001b[94m\n",
      "\n",
      "Tokenized string:\n",
      "['now', 'i', 'can', 'go', 'to', 'the', 'supermarket', 'like', 'this', 'without', 'being', 'judged', '!', '?', 'coronavirusoutbreak', 'covid', '2019']\n"
     ]
    }
   ],
   "source": [
    "# Tokenizing\n",
    "\n",
    "print()\n",
    "print('\\033[92m' + tweet2)\n",
    "print('\\033[94m')\n",
    "\n",
    "# instantiate tokenizer class\n",
    "tokenizer = TweetTokenizer(preserve_case=False, strip_handles=True,\n",
    "                               reduce_len=True)\n",
    "\n",
    "# tokenize tweets\n",
    "tweet_tokens = tokenizer.tokenize(tweet2)\n",
    "\n",
    "print()\n",
    "print('Tokenized string:')\n",
    "print(tweet_tokens)"
   ]
  },
  {
   "cell_type": "code",
   "execution_count": 33,
   "id": "8f3b4d92",
   "metadata": {},
   "outputs": [
    {
     "name": "stdout",
     "output_type": "stream",
     "text": [
      "Stop words\n",
      "\n",
      "['a', 'about', 'above', 'after', 'again', 'against', 'ain', 'all', 'am', 'an', 'and', 'any', 'are', 'aren', \"aren't\", 'as', 'at', 'be', 'because', 'been', 'before', 'being', 'below', 'between', 'both', 'but', 'by', 'can', 'couldn', \"couldn't\", 'd', 'did', 'didn', \"didn't\", 'do', 'does', 'doesn', \"doesn't\", 'doing', 'don', \"don't\", 'down', 'during', 'each', 'few', 'for', 'from', 'further', 'had', 'hadn', \"hadn't\", 'has', 'hasn', \"hasn't\", 'have', 'haven', \"haven't\", 'having', 'he', \"he'd\", \"he'll\", 'her', 'here', 'hers', 'herself', \"he's\", 'him', 'himself', 'his', 'how', 'i', \"i'd\", 'if', \"i'll\", \"i'm\", 'in', 'into', 'is', 'isn', \"isn't\", 'it', \"it'd\", \"it'll\", \"it's\", 'its', 'itself', \"i've\", 'just', 'll', 'm', 'ma', 'me', 'mightn', \"mightn't\", 'more', 'most', 'mustn', \"mustn't\", 'my', 'myself', 'needn', \"needn't\", 'no', 'nor', 'not', 'now', 'o', 'of', 'off', 'on', 'once', 'only', 'or', 'other', 'our', 'ours', 'ourselves', 'out', 'over', 'own', 're', 's', 'same', 'shan', \"shan't\", 'she', \"she'd\", \"she'll\", \"she's\", 'should', 'shouldn', \"shouldn't\", \"should've\", 'so', 'some', 'such', 't', 'than', 'that', \"that'll\", 'the', 'their', 'theirs', 'them', 'themselves', 'then', 'there', 'these', 'they', \"they'd\", \"they'll\", \"they're\", \"they've\", 'this', 'those', 'through', 'to', 'too', 'under', 'until', 'up', 've', 'very', 'was', 'wasn', \"wasn't\", 'we', \"we'd\", \"we'll\", \"we're\", 'were', 'weren', \"weren't\", \"we've\", 'what', 'when', 'where', 'which', 'while', 'who', 'whom', 'why', 'will', 'with', 'won', \"won't\", 'wouldn', \"wouldn't\", 'y', 'you', \"you'd\", \"you'll\", 'your', \"you're\", 'yours', 'yourself', 'yourselves', \"you've\"]\n",
      "\n",
      "Punctuation\n",
      "\n",
      "!\"#$%&'()*+,-./:;<=>?@[\\]^_`{|}~\n"
     ]
    },
    {
     "name": "stderr",
     "output_type": "stream",
     "text": [
      "[nltk_data] Downloading package stopwords to\n",
      "[nltk_data]     /Users/nrkhanchowdhury/nltk_data...\n",
      "[nltk_data]   Unzipping corpora/stopwords.zip.\n"
     ]
    }
   ],
   "source": [
    "# Import the english stop words list from NLTK\n",
    "nltk.download(\"stopwords\")\n",
    "stopwords_english = stopwords.words('english') \n",
    "\n",
    "print('Stop words\\n')\n",
    "print(stopwords_english)\n",
    "\n",
    "print('\\nPunctuation\\n')\n",
    "print(string.punctuation)"
   ]
  },
  {
   "cell_type": "code",
   "execution_count": 34,
   "id": "c7b68b2c",
   "metadata": {},
   "outputs": [
    {
     "name": "stdout",
     "output_type": "stream",
     "text": [
      "\n",
      "\u001b[92m\n",
      "['now', 'i', 'can', 'go', 'to', 'the', 'supermarket', 'like', 'this', 'without', 'being', 'judged', '!', '?', 'coronavirusoutbreak', 'covid', '2019']\n",
      "\u001b[94m\n",
      "removed stop words and punctuation:\n",
      "['go', 'supermarket', 'like', 'without', 'judged', 'coronavirusoutbreak', 'covid', '2019']\n"
     ]
    }
   ],
   "source": [
    "print()\n",
    "print('\\033[92m')\n",
    "print(tweet_tokens)\n",
    "print('\\033[94m')\n",
    "\n",
    "tweets_clean = []\n",
    "\n",
    "for word in tweet_tokens: # Go through every word in your tokens list\n",
    "    if (word not in stopwords_english and  # remove stopwords\n",
    "        word not in string.punctuation):  # remove punctuation\n",
    "        tweets_clean.append(word)\n",
    "\n",
    "print('removed stop words and punctuation:')\n",
    "print(tweets_clean)"
   ]
  },
  {
   "cell_type": "markdown",
   "id": "397d8c45",
   "metadata": {},
   "source": [
    "Stemming & Lemmatization are different word normalization techniques, that helps us convert the inflection words into the base forms. \n",
    "\n",
    "For example -\n",
    "\n",
    "\n",
    "\n",
    "> *have, having, had      --> have*\n",
    "\n",
    "> *playing, plays, played --> play*\n",
    "\n",
    "> *good, better, best     --> good*"
   ]
  },
  {
   "cell_type": "code",
   "execution_count": 35,
   "id": "be66fc51",
   "metadata": {},
   "outputs": [
    {
     "name": "stdout",
     "output_type": "stream",
     "text": [
      "\n",
      "\u001b[92m\n",
      "['go', 'supermarket', 'like', 'without', 'judged', 'coronavirusoutbreak', 'covid', '2019']\n",
      "\u001b[94m\n",
      "stemmed words:\n",
      "['go', 'supermarket', 'like', 'without', 'judg', 'coronavirusoutbreak', 'covid', '2019']\n"
     ]
    }
   ],
   "source": [
    "print()\n",
    "print('\\033[92m')\n",
    "print(tweets_clean)\n",
    "print('\\033[94m')\n",
    "\n",
    "# Instantiate stemming class\n",
    "stemmer = PorterStemmer() \n",
    "\n",
    "# Create an empty list to store the stems\n",
    "tweets_stem = [] \n",
    "\n",
    "for word in tweets_clean:\n",
    "    stem_word = stemmer.stem(word)  # stemming word\n",
    "    tweets_stem.append(stem_word)  # append to the list\n",
    "\n",
    "print('stemmed words:')\n",
    "print(tweets_stem)"
   ]
  },
  {
   "cell_type": "markdown",
   "id": "9040ced1",
   "metadata": {},
   "source": [
    "### Putting everything together\n",
    "\n",
    "\n",
    "\n",
    "\n",
    "1.   Remove hyperlinks, hashtags etc.\n",
    "2.   Tokenizing\n",
    "3.   Remove stopwords and punctuation\n",
    "4.   Stemming\n"
   ]
  },
  {
   "cell_type": "code",
   "execution_count": 36,
   "id": "a80ab7ad",
   "metadata": {},
   "outputs": [],
   "source": [
    "def process_tweet(tweet):\n",
    "    stemmer = PorterStemmer()\n",
    "    stopwords_english = stopwords.words('english')\n",
    "    \n",
    "    # remove stock market tickers like $GE\n",
    "    tweet = re.sub(r'\\$\\w*', '', tweet)\n",
    "    # remove old style retweet text \"RT\"\n",
    "    tweet = re.sub(r'^RT[\\s]+', '', tweet)\n",
    "    # remove hyperlinks    \n",
    "    tweet = re.sub(r'https?://[^\\s\\n\\r]+', '', tweet)\n",
    "    # remove hashtags\n",
    "    # only removing the hash # sign from the word\n",
    "    tweet = re.sub(r'#', '', tweet)\n",
    "    # tokenize tweets\n",
    "    tokenizer = TweetTokenizer(preserve_case=False, strip_handles=True,\n",
    "                               reduce_len=True)\n",
    "    tweet_tokens = tokenizer.tokenize(tweet)\n",
    "\n",
    "    tweets_clean = []\n",
    "    for word in tweet_tokens:\n",
    "        if (word not in stopwords_english and  # remove stopwords\n",
    "                word not in string.punctuation):  # remove punctuation\n",
    "            # tweets_clean.append(word)\n",
    "            stem_word = stemmer.stem(word)  # stemming word\n",
    "            tweets_clean.append(stem_word)\n",
    "\n",
    "    return tweets_clean"
   ]
  },
  {
   "cell_type": "code",
   "execution_count": 64,
   "id": "28911be8",
   "metadata": {},
   "outputs": [
    {
     "name": "stdout",
     "output_type": "stream",
     "text": [
      "\n",
      "\u001b[92m\n",
      "Now I can go to the supermarket like this without being judged! ? #CoronavirusOutbreak #COVID2019 https://t.co/krTCGiUHQS\n",
      "\u001b[94m\n",
      "preprocessed tweet:\n",
      "['go', 'supermarket', 'like', 'without', 'judg', 'coronavirusoutbreak', 'covid', '2019']\n"
     ]
    }
   ],
   "source": [
    "# choose the same tweet\n",
    "tweet = positive_train[12] \n",
    "\n",
    "print()\n",
    "print('\\033[92m')\n",
    "print(tweet)\n",
    "print('\\033[94m')\n",
    "\n",
    "# call the imported function\n",
    "tweets_stem = process_tweet(tweet); # Preprocess a given tweet\n",
    "\n",
    "print('preprocessed tweet:')\n",
    "print(tweets_stem) # Print the result"
   ]
  },
  {
   "cell_type": "markdown",
   "id": "fe3b438e",
   "metadata": {},
   "source": [
    "*  Previously, the word vector was of dimension `V` (size of vocabulary). Now, we will represent it with a vector of dimension `3`\n",
    "\n",
    "*  To do so, create a dictionary to map the word, and the class it appeared in (positive or negative) to the number of times that word appeared in its corresponding class.\n",
    "\n",
    "*  We call this dictionary `freqs`\n",
    "\n",
    "*  ```feature vector of a tweet m = [ Bias, sum of positive frequency, sum of negative frequency]```\n",
    "\n",
    "Frequency Dictionary:\n",
    "\n",
    "Text represented as a vector of dimension 3."
   ]
  },
  {
   "cell_type": "code",
   "execution_count": 67,
   "id": "866dbe65",
   "metadata": {},
   "outputs": [],
   "source": [
    "def build_freqs(tweets, ys):\n",
    "    \"\"\"\n",
    "        tweets: a list of tweets\n",
    "        ys: an m x 1 array with the sentiment label of each tweet\n",
    "            (either 0 or 1)\n",
    "        freqs: a dictionary mapping each (word, sentiment) pair (=key) to its frequency (=value)\n",
    "    \"\"\"\n",
    "    # Convert np array to list since zip needs an iterable.\n",
    "    # The squeeze is necessary or the list ends up with one element.\n",
    "    # Also note that this is just a NOP if ys is already a list.\n",
    "    yslist = np.squeeze(ys).tolist()\n",
    "\n",
    "    # Start with an empty dictionary and populate it by looping over all tweets\n",
    "    # and over all processed words in each tweet.\n",
    "    freqs = {}\n",
    "    for y, tweet in zip(yslist, tweets):\n",
    "        for word in process_tweet(tweet):\n",
    "            pair = (word, y)\n",
    "            if pair in freqs:\n",
    "                freqs[pair] += 1\n",
    "            else:\n",
    "                freqs[pair] = 1\n",
    "\n",
    "    return freqs"
   ]
  },
  {
   "cell_type": "code",
   "execution_count": 72,
   "id": "43029cdf",
   "metadata": {},
   "outputs": [],
   "source": [
    "training_tweets = positive_train + negative_train\n",
    "# make a numpy array representing labels of the tweets\n",
    "labels = np.append(np.ones((len(positive_train))), np.zeros((len(negative_train))))"
   ]
  },
  {
   "cell_type": "code",
   "execution_count": 74,
   "id": "e9b33968",
   "metadata": {},
   "outputs": [
    {
     "name": "stdout",
     "output_type": "stream",
     "text": [
      "type(freqs) = <class 'dict'>\n",
      "len(freqs) = 32128\n"
     ]
    }
   ],
   "source": [
    "# create frequency dictionary\n",
    "freqs = {}\n",
    "freqs = build_freqs(training_tweets, labels)\n",
    "\n",
    "# check data type\n",
    "print(f'type(freqs) = {type(freqs)}')\n",
    "\n",
    "# check length of the dictionary\n",
    "print(f'len(freqs) = {len(freqs)}')"
   ]
  },
  {
   "cell_type": "code",
   "execution_count": 75,
   "id": "b8ecb420",
   "metadata": {},
   "outputs": [
    {
     "data": {
      "text/plain": [
       "[['void', 2, 2],\n",
       " ['commun', 219, 126],\n",
       " ['spirit', 23, 10],\n",
       " ['stop', 214, 423],\n",
       " ['merri', 0, 0],\n",
       " ['nice', 54, 26],\n",
       " ['good', 421, 251],\n",
       " ['bad', 37, 79],\n",
       " ['sad', 15, 28],\n",
       " ['mad', 12, 51],\n",
       " ['best', 82, 17],\n",
       " ['pretti', 41, 18],\n",
       " [':)', 6, 5],\n",
       " [':(', 4, 2],\n",
       " ['song', 11, 6],\n",
       " ['idea', 75, 47],\n",
       " ['power', 52, 43],\n",
       " ['play', 73, 42]]"
      ]
     },
     "execution_count": 75,
     "metadata": {},
     "output_type": "execute_result"
    }
   ],
   "source": [
    "# select some words to appear in the report.\n",
    "keys = ['void', 'commun', 'spirit', 'stop', 'merri', 'nice', 'good', 'bad', 'sad', 'mad', 'best', 'pretti',\n",
    "        ':)', ':(', 'song', 'idea', 'power', 'play']\n",
    "\n",
    "# list representing our table of word counts.\n",
    "# each element consist of a sublist with this pattern: [<word>, <positive_count>, <negative_count>]\n",
    "data = []\n",
    "\n",
    "# loop through our selected words\n",
    "for word in keys:\n",
    "    \n",
    "    # initialize positive and negative counts\n",
    "    pos = 0\n",
    "    neg = 0\n",
    "    \n",
    "    # retrieve number of positive counts\n",
    "    if (word, 1) in freqs:\n",
    "        pos = freqs[(word, 1)]\n",
    "        \n",
    "    # retrieve number of negative counts\n",
    "    if (word, 0) in freqs:\n",
    "        neg = freqs[(word, 0)]\n",
    "        \n",
    "    # append the word counts to the table\n",
    "    data.append([word, pos, neg])\n",
    "    \n",
    "data"
   ]
  },
  {
   "cell_type": "code",
   "execution_count": 76,
   "id": "f8f29b3e",
   "metadata": {},
   "outputs": [
    {
     "data": {
      "image/png": "[encoded data removed]",
      "text/plain": [
       "<Figure size 800x800 with 1 Axes>"
      ]
     },
     "metadata": {},
     "output_type": "display_data"
    }
   ],
   "source": [
    "fig, ax = plt.subplots(figsize = (8, 8))\n",
    "\n",
    "# convert positive raw counts to logarithmic scale. we add 1 to avoid log(0)\n",
    "x = np.log([x[1] + 1 for x in data])  \n",
    "\n",
    "# do the same for the negative counts\n",
    "y = np.log([x[2] + 1 for x in data]) \n",
    "\n",
    "# Plot a dot for each pair of words\n",
    "ax.scatter(x, y)  \n",
    "\n",
    "# assign axis labels\n",
    "plt.xlabel(\"Log Positive count\")\n",
    "plt.ylabel(\"Log Negative count\")\n",
    "\n",
    "# Add the word as the label at the same position as you added the points just before\n",
    "for i in range(0, len(data)):\n",
    "    ax.annotate(data[i][0], (x[i], y[i]), fontsize=12)\n",
    "\n",
    "ax.plot([0, 9], [0, 9], color = 'brown') # Plot the red line that divides the 2 areas.\n",
    "plt.show()"
   ]
  },
  {
   "cell_type": "markdown",
   "id": "37ffea4e",
   "metadata": {},
   "source": [
    "### Extracting features function."
   ]
  },
  {
   "cell_type": "code",
   "execution_count": 77,
   "id": "505ea9c7",
   "metadata": {},
   "outputs": [],
   "source": [
    "def extract_features(tweet, freqs):\n",
    "    '''\n",
    "        tweet: a list of words for one tweet\n",
    "        freqs: a dictionary corresponding to the frequencies of each tuple (word, label)\n",
    "        x: a feature vector of dimension (1,3)\n",
    "    '''\n",
    "    # process_tweet tokenizes, stems, and removes stopwords\n",
    "    word_l = process_tweet(tweet)\n",
    "    # 3 elements in the form of a 1 x 3 vector\n",
    "    x = np.zeros((1, 3)) \n",
    "    \n",
    "    #bias term is set to 1\n",
    "    x[0,0] = 1 \n",
    "        \n",
    "    # loop through each word in the list of words\n",
    "    for word in word_l:\n",
    "        \n",
    "        # increment the word count for the positive label 1\n",
    "        x[0,1] += freqs.get((word, 1.0),0)\n",
    "        \n",
    "        # increment the word count for the negative label 0\n",
    "        x[0,2] += freqs.get((word, 0.0),0)\n",
    "        \n",
    "    assert(x.shape == (1, 3))\n",
    "    return x"
   ]
  },
  {
   "cell_type": "markdown",
   "id": "ba5236ba",
   "metadata": {},
   "source": [
    "### Example 1: feature extraction for a tweet"
   ]
  },
  {
   "cell_type": "code",
   "execution_count": 82,
   "id": "61ab7917",
   "metadata": {},
   "outputs": [
    {
     "name": "stdout",
     "output_type": "stream",
     "text": [
      "preprocessed tweet:\n",
      "advice Talk to your neighbours family to exchange phone numbers create contact list with phone numbers of neighbours schools employer chemist GP set up online shopping accounts if poss adequate supplies of regular meds but not over order \n",
      "\n",
      "extracted features:\n",
      "[[1.000e+00 4.524e+03 3.881e+03]]\n"
     ]
    }
   ],
   "source": [
    "train_x = training_tweets\n",
    "tmp1 = extract_features(train_x[0], freqs)\n",
    "print('preprocessed tweet:')\n",
    "print(train_x[0],\"\\n\")\n",
    "\n",
    "print('extracted features:')\n",
    "print(tmp1)"
   ]
  },
  {
   "cell_type": "code",
   "execution_count": 83,
   "id": "59a6b94a",
   "metadata": {},
   "outputs": [
    {
     "name": "stdout",
     "output_type": "stream",
     "text": [
      "[[ 1. 92. 23.]]\n"
     ]
    }
   ],
   "source": [
    "tmp2 = extract_features('This batch is the best batch', freqs)\n",
    "print(tmp2)"
   ]
  },
  {
   "cell_type": "markdown",
   "id": "28c9de2d",
   "metadata": {},
   "source": [
    "### Preparing training data"
   ]
  },
  {
   "cell_type": "code",
   "execution_count": 84,
   "id": "0926b183",
   "metadata": {},
   "outputs": [],
   "source": [
    "# collect the features 'x' and stack them into a matrix 'X'\n",
    "# train_x = training_tweets = positive_train + negatve_train\n",
    "\n",
    "X = np.zeros((len(train_x), 3))\n",
    "for i in range(len(train_x)):\n",
    "    X[i, :]= extract_features(train_x[i], freqs)\n",
    "\n",
    "# training labels corresponding to X\n",
    "train_y = np.append(np.ones((len(positive_train), 1)), np.zeros((len(negative_train), 1)), axis=0)\n",
    "Y = np.ravel(train_y,order='C')"
   ]
  },
  {
   "cell_type": "markdown",
   "id": "9dbdc43b",
   "metadata": {},
   "source": [
    "## Implement the most basic logistic regression model"
   ]
  },
  {
   "cell_type": "code",
   "execution_count": 85,
   "id": "0398ec87",
   "metadata": {},
   "outputs": [
    {
     "name": "stdout",
     "output_type": "stream",
     "text": [
      "Training Accuracy:  0.6216093576686498\n"
     ]
    }
   ],
   "source": [
    "from sklearn.linear_model import LogisticRegression\n",
    "clf = LogisticRegression().fit(X, Y)\n",
    "\n",
    "print(\"Training Accuracy: \",clf.score(X, Y))"
   ]
  },
  {
   "cell_type": "markdown",
   "id": "6515f738",
   "metadata": {},
   "source": [
    "### Check performance on test set"
   ]
  },
  {
   "cell_type": "code",
   "execution_count": 86,
   "id": "e779eb30",
   "metadata": {},
   "outputs": [
    {
     "name": "stdout",
     "output_type": "stream",
     "text": [
      "Testing Accuracy:  0.5834213305174234\n"
     ]
    }
   ],
   "source": [
    "# Testing\n",
    "testing_tweets = positive_test + negative_test\n",
    "\n",
    "test_X = np.zeros((len(testing_tweets), 3))\n",
    "for i in range(len(testing_tweets)):\n",
    "    test_X[i, :]= extract_features(testing_tweets[i], freqs)\n",
    "\n",
    "# training labels corresponding to X\n",
    "test_y = np.append(np.ones((len(positive_test), 1)), np.zeros((len(negative_test), 1)), axis=0)\n",
    "test_Y = np.ravel(test_y,order='C')\n",
    "\n",
    "print(\"Testing Accuracy: \",clf.score(test_X, test_Y))"
   ]
  },
  {
   "cell_type": "markdown",
   "id": "107d9596",
   "metadata": {},
   "source": [
    "### Predict whether a tweet is positive or negative.\n",
    "\n",
    "**Note:** classify 1, for a positive sentiment, and 0, for a negative sentiment."
   ]
  },
  {
   "cell_type": "code",
   "execution_count": 87,
   "id": "91a201e0",
   "metadata": {},
   "outputs": [
    {
     "name": "stdout",
     "output_type": "stream",
     "text": [
      "\u001b[92mThank God coronovirus is over -> 1.000000\n",
      "\u001b[91mThis is seriously ridiculous. Stop hoarding -> 0.000000\n",
      "\u001b[92mGovernment efforts are great. -> 1.000000\n",
      "\u001b[93mNonsense -> 0.000000\n",
      "\u001b[91mPanic-buying is pushing up prices.#coronavirus -> 0.000000\n",
      "\u001b[92mTHANK YOU to make hand sanitizer in distillery amid outbreak -> 1.000000\n"
     ]
    },
    {
     "name": "stderr",
     "output_type": "stream",
     "text": [
      "/var/folders/21/vgybxt6529g5wrtxj6dvczdm0000gn/T/ipykernel_10578/2171738830.py:15: DeprecationWarning: Conversion of an array with ndim > 0 to a scalar is deprecated, and will error in future. Ensure you extract a single element from your array before performing this operation. (Deprecated NumPy 1.25.)\n",
      "  print( '%s -> %f' % (tweet, predict_custom_tweet(tweet, freqs)))\n",
      "/var/folders/21/vgybxt6529g5wrtxj6dvczdm0000gn/T/ipykernel_10578/2171738830.py:15: DeprecationWarning: Conversion of an array with ndim > 0 to a scalar is deprecated, and will error in future. Ensure you extract a single element from your array before performing this operation. (Deprecated NumPy 1.25.)\n",
      "  print( '%s -> %f' % (tweet, predict_custom_tweet(tweet, freqs)))\n",
      "/var/folders/21/vgybxt6529g5wrtxj6dvczdm0000gn/T/ipykernel_10578/2171738830.py:15: DeprecationWarning: Conversion of an array with ndim > 0 to a scalar is deprecated, and will error in future. Ensure you extract a single element from your array before performing this operation. (Deprecated NumPy 1.25.)\n",
      "  print( '%s -> %f' % (tweet, predict_custom_tweet(tweet, freqs)))\n",
      "/var/folders/21/vgybxt6529g5wrtxj6dvczdm0000gn/T/ipykernel_10578/2171738830.py:15: DeprecationWarning: Conversion of an array with ndim > 0 to a scalar is deprecated, and will error in future. Ensure you extract a single element from your array before performing this operation. (Deprecated NumPy 1.25.)\n",
      "  print( '%s -> %f' % (tweet, predict_custom_tweet(tweet, freqs)))\n",
      "/var/folders/21/vgybxt6529g5wrtxj6dvczdm0000gn/T/ipykernel_10578/2171738830.py:15: DeprecationWarning: Conversion of an array with ndim > 0 to a scalar is deprecated, and will error in future. Ensure you extract a single element from your array before performing this operation. (Deprecated NumPy 1.25.)\n",
      "  print( '%s -> %f' % (tweet, predict_custom_tweet(tweet, freqs)))\n",
      "/var/folders/21/vgybxt6529g5wrtxj6dvczdm0000gn/T/ipykernel_10578/2171738830.py:15: DeprecationWarning: Conversion of an array with ndim > 0 to a scalar is deprecated, and will error in future. Ensure you extract a single element from your array before performing this operation. (Deprecated NumPy 1.25.)\n",
      "  print( '%s -> %f' % (tweet, predict_custom_tweet(tweet, freqs)))\n"
     ]
    }
   ],
   "source": [
    "def predict_custom_tweet(tweet, freqs):\n",
    "    x = extract_features(tweet,freqs)\n",
    "    y_pred = clf.predict(x)\n",
    "    return y_pred\n",
    "\n",
    "# test your function\n",
    "list_of_tweets = ['\\033[92m'+'Thank God coronovirus is over', \n",
    "                  '\\033[91m'+'This is seriously ridiculous. Stop hoarding', \n",
    "                  '\\033[92m'+'Government efforts are great.', \n",
    "                  '\\033[93m'+'Nonsense', #anomaly in classification\n",
    "                  '\\033[91m'+'Panic-buying is pushing up prices.#coronavirus', \n",
    "                  '\\033[92m'+'THANK YOU to make hand sanitizer in distillery amid outbreak']\n",
    "\n",
    "for tweet in list_of_tweets:\n",
    "    print( '%s -> %f' % (tweet, predict_custom_tweet(tweet, freqs)))"
   ]
  },
  {
   "cell_type": "markdown",
   "id": "3dd73fa1",
   "metadata": {},
   "source": [
    "## Conclusion\n",
    "\n",
    "**Aim:** To utilize Twitter feed to carry out the sentimental analysis on the new strain of COVID-19.\n",
    "\n",
    "**Made machine understand textual data**\n",
    "\n",
    "*   Tokenization\n",
    "*   Regular expression\n",
    "*   Natural Language Toolkit (NLTK) package\n",
    "\n",
    "*   Preprocessing:\n",
    "> 1.   Remove hyperlinks, hashtags etc.\n",
    "> 2.   Remove stopwords and punctuation\n",
    "> 3.   Stemming\n",
    "\n",
    "\n",
    "*   Represent text in NLP:\n",
    "> 1.   Sparse representation\n",
    "> 2.   Drawbacks of sparse representation\n",
    "> 3.   Frequency Dictionary\n",
    "> 4.   Extracting features from Frequency Dictionary\n",
    "\n",
    "*   Training Logistic Regression.\n",
    "*   Performance on the test set\n"
   ]
  },
  {
   "cell_type": "code",
   "execution_count": null,
   "id": "372d6193",
   "metadata": {},
   "outputs": [],
   "source": []
  }
 ],
 "metadata": {
  "kernelspec": {
   "display_name": "Python 3 (ipykernel)",
   "language": "python",
   "name": "python3"
  },
  "language_info": {
   "codemirror_mode": {
    "name": "ipython",
    "version": 3
   },
   "file_extension": ".py",
   "mimetype": "text/x-python",
   "name": "python",
   "nbconvert_exporter": "python",
   "pygments_lexer": "ipython3",
   "version": "3.9.5"
  }
 },
 "nbformat": 4,
 "nbformat_minor": 5
}
